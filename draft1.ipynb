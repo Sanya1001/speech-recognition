{
 "cells": [
  {
   "cell_type": "code",
   "execution_count": 1,
   "metadata": {
    "collapsed": true
   },
   "outputs": [
    {
     "name": "stdout",
     "output_type": "stream",
     "text": [
      "Collecting git+https://github.com/openai/whisper.git\r\n",
      "  Cloning https://github.com/openai/whisper.git to /private/var/folders/_c/kcv6n5dj3gs3fdflj10bmc6c0000gn/T/pip-req-build-1_cx5a4w\r\n",
      "  Running command git clone -q https://github.com/openai/whisper.git /private/var/folders/_c/kcv6n5dj3gs3fdflj10bmc6c0000gn/T/pip-req-build-1_cx5a4w\r\n",
      "  Resolved https://github.com/openai/whisper.git to commit 6dea21fd7f7253bfe450f1e2512a0fe47ee2d258\r\n",
      "  Installing build dependencies ... \u001B[?25ldone\r\n",
      "\u001B[?25h  Getting requirements to build wheel ... \u001B[?25ldone\r\n",
      "\u001B[?25h    Preparing wheel metadata ... \u001B[?25ldone\r\n",
      "\u001B[?25hCollecting tiktoken==0.3.1\r\n",
      "  Downloading tiktoken-0.3.1-cp39-cp39-macosx_10_9_x86_64.whl (735 kB)\r\n",
      "\u001B[K     |████████████████████████████████| 735 kB 6.4 MB/s eta 0:00:01\r\n",
      "\u001B[?25hCollecting more-itertools\r\n",
      "  Downloading more_itertools-9.1.0-py3-none-any.whl (54 kB)\r\n",
      "\u001B[K     |████████████████████████████████| 54 kB 3.7 MB/s eta 0:00:01\r\n",
      "\u001B[?25hRequirement already satisfied: tqdm in /Users/saniasinha/opt/anaconda3/lib/python3.9/site-packages (from openai-whisper==20230314) (4.64.0)\r\n",
      "Requirement already satisfied: numpy in /Users/saniasinha/opt/anaconda3/lib/python3.9/site-packages (from openai-whisper==20230314) (1.21.5)\r\n",
      "Requirement already satisfied: numba in /Users/saniasinha/opt/anaconda3/lib/python3.9/site-packages (from openai-whisper==20230314) (0.55.1)\r\n",
      "Collecting ffmpeg-python==0.2.0\r\n",
      "  Downloading ffmpeg_python-0.2.0-py3-none-any.whl (25 kB)\r\n",
      "Requirement already satisfied: torch in /Users/saniasinha/opt/anaconda3/lib/python3.9/site-packages (from openai-whisper==20230314) (1.12.1)\r\n",
      "Requirement already satisfied: future in /Users/saniasinha/opt/anaconda3/lib/python3.9/site-packages (from ffmpeg-python==0.2.0->openai-whisper==20230314) (0.18.2)\r\n",
      "Requirement already satisfied: regex>=2022.1.18 in /Users/saniasinha/opt/anaconda3/lib/python3.9/site-packages (from tiktoken==0.3.1->openai-whisper==20230314) (2022.3.15)\r\n",
      "Requirement already satisfied: requests>=2.26.0 in /Users/saniasinha/opt/anaconda3/lib/python3.9/site-packages (from tiktoken==0.3.1->openai-whisper==20230314) (2.27.1)\r\n",
      "Requirement already satisfied: certifi>=2017.4.17 in /Users/saniasinha/opt/anaconda3/lib/python3.9/site-packages (from requests>=2.26.0->tiktoken==0.3.1->openai-whisper==20230314) (2021.10.8)\r\n",
      "Requirement already satisfied: charset-normalizer~=2.0.0 in /Users/saniasinha/opt/anaconda3/lib/python3.9/site-packages (from requests>=2.26.0->tiktoken==0.3.1->openai-whisper==20230314) (2.0.4)\r\n",
      "Requirement already satisfied: idna<4,>=2.5 in /Users/saniasinha/opt/anaconda3/lib/python3.9/site-packages (from requests>=2.26.0->tiktoken==0.3.1->openai-whisper==20230314) (3.3)\r\n",
      "Requirement already satisfied: urllib3<1.27,>=1.21.1 in /Users/saniasinha/opt/anaconda3/lib/python3.9/site-packages (from requests>=2.26.0->tiktoken==0.3.1->openai-whisper==20230314) (1.26.9)\r\n",
      "Requirement already satisfied: llvmlite<0.39,>=0.38.0rc1 in /Users/saniasinha/opt/anaconda3/lib/python3.9/site-packages (from numba->openai-whisper==20230314) (0.38.0)\r\n",
      "Requirement already satisfied: setuptools in /Users/saniasinha/opt/anaconda3/lib/python3.9/site-packages (from numba->openai-whisper==20230314) (61.2.0)\r\n",
      "Requirement already satisfied: typing-extensions in /Users/saniasinha/opt/anaconda3/lib/python3.9/site-packages (from torch->openai-whisper==20230314) (4.4.0)\r\n",
      "Building wheels for collected packages: openai-whisper\r\n",
      "  Building wheel for openai-whisper (PEP 517) ... \u001B[?25ldone\r\n",
      "\u001B[?25h  Created wheel for openai-whisper: filename=openai_whisper-20230314-py3-none-any.whl size=796901 sha256=df6febdb7eeb86121117cf253837b40730d7ca4460d0a4e20ea3134c45fb0cac\r\n",
      "  Stored in directory: /private/var/folders/_c/kcv6n5dj3gs3fdflj10bmc6c0000gn/T/pip-ephem-wheel-cache-6_5vdi8w/wheels/fe/03/29/e7919208d11b4ab32972cb448bb84a9a675d92cd52c9a48341\r\n",
      "Successfully built openai-whisper\r\n",
      "Installing collected packages: tiktoken, more-itertools, ffmpeg-python, openai-whisper\r\n",
      "Successfully installed ffmpeg-python-0.2.0 more-itertools-9.1.0 openai-whisper-20230314 tiktoken-0.3.1\r\n"
     ]
    }
   ],
   "source": [
    "!pip install git+https://github.com/openai/whisper.git"
   ]
  },
  {
   "cell_type": "code",
   "execution_count": 1,
   "outputs": [],
   "source": [
    "import whisper"
   ],
   "metadata": {
    "collapsed": false
   }
  },
  {
   "cell_type": "code",
   "execution_count": 2,
   "outputs": [
    {
     "name": "stderr",
     "output_type": "stream",
     "text": [
      "100%|███████████████████████████████████████| 139M/139M [00:39<00:00, 3.68MiB/s]\n"
     ]
    }
   ],
   "source": [
    "model = whisper.load_model(\"base\")"
   ],
   "metadata": {
    "collapsed": false
   }
  },
  {
   "cell_type": "code",
   "execution_count": 3,
   "outputs": [
    {
     "name": "stderr",
     "output_type": "stream",
     "text": [
      "/Users/saniasinha/opt/anaconda3/lib/python3.9/site-packages/whisper/transcribe.py:114: UserWarning: FP16 is not supported on CPU; using FP32 instead\n",
      "  warnings.warn(\"FP16 is not supported on CPU; using FP32 instead\")\n"
     ]
    }
   ],
   "source": [
    "result = model.transcribe(\"test1.wav\")"
   ],
   "metadata": {
    "collapsed": false
   }
  },
  {
   "cell_type": "code",
   "execution_count": 4,
   "outputs": [
    {
     "data": {
      "text/plain": "{'text': \" He's fit to hear what's said here.\",\n 'segments': [{'id': 0,\n   'seek': 0,\n   'start': 0.0,\n   'end': 1.6400000000000001,\n   'text': \" He's fit to hear what's said here.\",\n   'tokens': [50364, 634, 311, 3318, 281, 1568, 437, 311, 848, 510, 13, 50446],\n   'temperature': 0.0,\n   'avg_logprob': -0.3471787159259503,\n   'compression_ratio': 0.8717948717948718,\n   'no_speech_prob': 0.006361949257552624}],\n 'language': 'en'}"
     },
     "execution_count": 4,
     "metadata": {},
     "output_type": "execute_result"
    }
   ],
   "source": [
    "result"
   ],
   "metadata": {
    "collapsed": false
   }
  },
  {
   "cell_type": "code",
   "execution_count": null,
   "outputs": [],
   "source": [],
   "metadata": {
    "collapsed": false
   }
  },
  {
   "cell_type": "code",
   "execution_count": null,
   "outputs": [],
   "source": [],
   "metadata": {
    "collapsed": false
   }
  },
  {
   "cell_type": "code",
   "execution_count": null,
   "outputs": [],
   "source": [],
   "metadata": {
    "collapsed": false
   }
  },
  {
   "cell_type": "code",
   "execution_count": null,
   "outputs": [],
   "source": [],
   "metadata": {
    "collapsed": false
   }
  },
  {
   "cell_type": "code",
   "execution_count": null,
   "outputs": [],
   "source": [],
   "metadata": {
    "collapsed": false
   }
  },
  {
   "cell_type": "code",
   "execution_count": null,
   "outputs": [],
   "source": [],
   "metadata": {
    "collapsed": false
   }
  },
  {
   "cell_type": "code",
   "execution_count": null,
   "outputs": [],
   "source": [],
   "metadata": {
    "collapsed": false
   }
  },
  {
   "cell_type": "code",
   "execution_count": null,
   "outputs": [],
   "source": [],
   "metadata": {
    "collapsed": false
   }
  },
  {
   "cell_type": "code",
   "execution_count": null,
   "outputs": [],
   "source": [],
   "metadata": {
    "collapsed": false
   }
  },
  {
   "cell_type": "code",
   "execution_count": null,
   "outputs": [],
   "source": [],
   "metadata": {
    "collapsed": false
   }
  }
 ],
 "metadata": {
  "kernelspec": {
   "display_name": "Python 3",
   "language": "python",
   "name": "python3"
  },
  "language_info": {
   "codemirror_mode": {
    "name": "ipython",
    "version": 2
   },
   "file_extension": ".py",
   "mimetype": "text/x-python",
   "name": "python",
   "nbconvert_exporter": "python",
   "pygments_lexer": "ipython2",
   "version": "2.7.6"
  }
 },
 "nbformat": 4,
 "nbformat_minor": 0
}
