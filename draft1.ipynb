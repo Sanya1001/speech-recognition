{
  "cells": [
    {
      "attachments": {},
      "cell_type": "markdown",
      "metadata": {},
      "source": [
        "# Install Dependencies & Import"
      ]
    },
    {
      "cell_type": "code",
      "execution_count": 19,
      "metadata": {
        "colab": {
          "base_uri": "https://localhost:8080/"
        },
        "collapsed": true,
        "id": "0aQNnmK-f2FD",
        "outputId": "93f3b4e1-2c2d-4489-eaea-b05aac46f22e"
      },
      "outputs": [
        {
          "name": "stdout",
          "output_type": "stream",
          "text": [
            "Collecting git+https://github.com/openai/whisper.git\n",
            "  Cloning https://github.com/openai/whisper.git to /private/var/folders/py/bg01sqvn7sg74g1d70cyr8d40000gn/T/pip-req-build-8vfp5ksg\n",
            "  Running command git clone --filter=blob:none --quiet https://github.com/openai/whisper.git /private/var/folders/py/bg01sqvn7sg74g1d70cyr8d40000gn/T/pip-req-build-8vfp5ksg\n",
            "  Resolved https://github.com/openai/whisper.git to commit 6dea21fd7f7253bfe450f1e2512a0fe47ee2d258\n",
            "  Installing build dependencies ... \u001b[?25ldone\n",
            "\u001b[?25h  Getting requirements to build wheel ... \u001b[?25ldone\n",
            "\u001b[?25h  Preparing metadata (pyproject.toml) ... \u001b[?25ldone\n",
            "\u001b[?25hRequirement already satisfied: numba in ./.conda/lib/python3.10/site-packages (from openai-whisper==20230314) (0.56.4)\n",
            "Requirement already satisfied: numpy in ./.conda/lib/python3.10/site-packages (from openai-whisper==20230314) (1.23.5)\n",
            "Requirement already satisfied: tqdm in ./.conda/lib/python3.10/site-packages (from openai-whisper==20230314) (4.65.0)\n",
            "Requirement already satisfied: more-itertools in ./.conda/lib/python3.10/site-packages (from openai-whisper==20230314) (9.1.0)\n",
            "Requirement already satisfied: torch in ./.conda/lib/python3.10/site-packages (from openai-whisper==20230314) (2.0.0)\n",
            "Requirement already satisfied: ffmpeg-python==0.2.0 in ./.conda/lib/python3.10/site-packages (from openai-whisper==20230314) (0.2.0)\n",
            "Requirement already satisfied: tiktoken==0.3.1 in ./.conda/lib/python3.10/site-packages (from openai-whisper==20230314) (0.3.1)\n",
            "Requirement already satisfied: future in ./.conda/lib/python3.10/site-packages (from ffmpeg-python==0.2.0->openai-whisper==20230314) (0.18.3)\n",
            "Requirement already satisfied: requests>=2.26.0 in ./.conda/lib/python3.10/site-packages (from tiktoken==0.3.1->openai-whisper==20230314) (2.28.2)\n",
            "Requirement already satisfied: regex>=2022.1.18 in ./.conda/lib/python3.10/site-packages (from tiktoken==0.3.1->openai-whisper==20230314) (2022.10.31)\n",
            "Requirement already satisfied: llvmlite<0.40,>=0.39.0dev0 in ./.conda/lib/python3.10/site-packages (from numba->openai-whisper==20230314) (0.39.1)\n",
            "Requirement already satisfied: setuptools in ./.conda/lib/python3.10/site-packages (from numba->openai-whisper==20230314) (67.6.0)\n",
            "Requirement already satisfied: jinja2 in ./.conda/lib/python3.10/site-packages (from torch->openai-whisper==20230314) (3.1.2)\n",
            "Requirement already satisfied: networkx in ./.conda/lib/python3.10/site-packages (from torch->openai-whisper==20230314) (3.0)\n",
            "Requirement already satisfied: sympy in ./.conda/lib/python3.10/site-packages (from torch->openai-whisper==20230314) (1.11.1)\n",
            "Requirement already satisfied: filelock in ./.conda/lib/python3.10/site-packages (from torch->openai-whisper==20230314) (3.10.1)\n",
            "Requirement already satisfied: typing-extensions in ./.conda/lib/python3.10/site-packages (from torch->openai-whisper==20230314) (4.5.0)\n",
            "Requirement already satisfied: idna<4,>=2.5 in ./.conda/lib/python3.10/site-packages (from requests>=2.26.0->tiktoken==0.3.1->openai-whisper==20230314) (3.4)\n",
            "Requirement already satisfied: certifi>=2017.4.17 in ./.conda/lib/python3.10/site-packages (from requests>=2.26.0->tiktoken==0.3.1->openai-whisper==20230314) (2022.12.7)\n",
            "Requirement already satisfied: charset-normalizer<4,>=2 in ./.conda/lib/python3.10/site-packages (from requests>=2.26.0->tiktoken==0.3.1->openai-whisper==20230314) (3.1.0)\n",
            "Requirement already satisfied: urllib3<1.27,>=1.21.1 in ./.conda/lib/python3.10/site-packages (from requests>=2.26.0->tiktoken==0.3.1->openai-whisper==20230314) (1.26.15)\n",
            "Requirement already satisfied: MarkupSafe>=2.0 in ./.conda/lib/python3.10/site-packages (from jinja2->torch->openai-whisper==20230314) (2.1.2)\n",
            "Requirement already satisfied: mpmath>=0.19 in ./.conda/lib/python3.10/site-packages (from sympy->torch->openai-whisper==20230314) (1.3.0)\n",
            "Note: you may need to restart the kernel to use updated packages.\n",
            "Collecting torchaudio\n",
            "  Downloading torchaudio-2.0.1-cp310-cp310-macosx_11_0_arm64.whl (3.6 MB)\n",
            "\u001b[2K     \u001b[90m━━━━━━━━━━━━━━━━━━━━━━━━━━━━━━━━━━━━━━━━\u001b[0m \u001b[32m3.6/3.6 MB\u001b[0m \u001b[31m1.5 MB/s\u001b[0m eta \u001b[36m0:00:00\u001b[0m00:01\u001b[0m00:01\u001b[0m0m\n",
            "\u001b[?25hRequirement already satisfied: torch==2.0.0 in ./.conda/lib/python3.10/site-packages (from torchaudio) (2.0.0)\n",
            "Requirement already satisfied: networkx in ./.conda/lib/python3.10/site-packages (from torch==2.0.0->torchaudio) (3.0)\n",
            "Requirement already satisfied: sympy in ./.conda/lib/python3.10/site-packages (from torch==2.0.0->torchaudio) (1.11.1)\n",
            "Requirement already satisfied: filelock in ./.conda/lib/python3.10/site-packages (from torch==2.0.0->torchaudio) (3.10.1)\n",
            "Requirement already satisfied: jinja2 in ./.conda/lib/python3.10/site-packages (from torch==2.0.0->torchaudio) (3.1.2)\n",
            "Requirement already satisfied: typing-extensions in ./.conda/lib/python3.10/site-packages (from torch==2.0.0->torchaudio) (4.5.0)\n",
            "Requirement already satisfied: MarkupSafe>=2.0 in ./.conda/lib/python3.10/site-packages (from jinja2->torch==2.0.0->torchaudio) (2.1.2)\n",
            "Requirement already satisfied: mpmath>=0.19 in ./.conda/lib/python3.10/site-packages (from sympy->torch==2.0.0->torchaudio) (1.3.0)\n",
            "Installing collected packages: torchaudio\n",
            "Successfully installed torchaudio-2.0.1\n",
            "Note: you may need to restart the kernel to use updated packages.\n"
          ]
        }
      ],
      "source": [
        "%pip install git+https://github.com/openai/whisper.git\n",
        "%pip install torchaudio"
      ]
    },
    {
      "cell_type": "code",
      "execution_count": 20,
      "metadata": {
        "id": "AI_A54jxf2FG"
      },
      "outputs": [],
      "source": [
        "#imports\n",
        "import os\n",
        "import re\n",
        "import string\n",
        "import numpy as np\n",
        "import whisper"
      ]
    },
    {
      "attachments": {},
      "cell_type": "markdown",
      "metadata": {},
      "source": [
        "# Load model and dataset"
      ]
    },
    {
      "attachments": {},
      "cell_type": "markdown",
      "metadata": {},
      "source": [
        "Load model (OpenAI Whisper):"
      ]
    },
    {
      "cell_type": "code",
      "execution_count": 21,
      "metadata": {
        "colab": {
          "base_uri": "https://localhost:8080/"
        },
        "id": "2n0Er8cTf2FG",
        "outputId": "e3c9f658-4e80-4885-bcb5-8687eaad9957"
      },
      "outputs": [],
      "source": [
        "# model\n",
        "# replace with model here later\n",
        "model = whisper.load_model(\"base\")"
      ]
    },
    {
      "attachments": {},
      "cell_type": "markdown",
      "metadata": {},
      "source": [
        "Load dataset (LibriTTS):"
      ]
    },
    {
      "cell_type": "code",
      "execution_count": 30,
      "metadata": {},
      "outputs": [
        {
          "name": "stderr",
          "output_type": "stream",
          "text": [
            "100%|██████████| 7.19G/7.19G [32:40<00:00, 3.94MB/s]  \n"
          ]
        }
      ],
      "source": [
        "import torch\n",
        "import torchaudio\n",
        "\n",
        "data = torchaudio.datasets.LIBRITTS(root=\"data\", url=\"train-clean-100\", download=True)"
      ]
    },
    {
      "cell_type": "code",
      "execution_count": 31,
      "metadata": {},
      "outputs": [],
      "source": [
        "data_loader = torch.utils.data.DataLoader(data, batch_size=1, shuffle=True)"
      ]
    },
    {
      "attachments": {},
      "cell_type": "markdown",
      "metadata": {},
      "source": [
        "# Convert audio to spectrogram"
      ]
    },
    {
      "cell_type": "code",
      "execution_count": 57,
      "metadata": {},
      "outputs": [
        {
          "name": "stdout",
          "output_type": "stream",
          "text": [
            "Requirement already satisfied: scipy in ./.conda/lib/python3.10/site-packages (1.10.1)\n",
            "Collecting matplotlib\n",
            "  Downloading matplotlib-3.7.1-cp310-cp310-macosx_11_0_arm64.whl (7.3 MB)\n",
            "\u001b[2K     \u001b[90m━━━━━━━━━━━━━━━━━━━━━━━━━━━━━━━━━━━━━━━━\u001b[0m \u001b[32m7.3/7.3 MB\u001b[0m \u001b[31m10.2 MB/s\u001b[0m eta \u001b[36m0:00:00\u001b[0m00:01\u001b[0m00:01\u001b[0m\n",
            "\u001b[?25hRequirement already satisfied: numpy<1.27.0,>=1.19.5 in ./.conda/lib/python3.10/site-packages (from scipy) (1.23.5)\n",
            "Requirement already satisfied: python-dateutil>=2.7 in ./.conda/lib/python3.10/site-packages (from matplotlib) (2.8.2)\n",
            "Collecting pillow>=6.2.0\n",
            "  Downloading Pillow-9.4.0-cp310-cp310-macosx_11_0_arm64.whl (3.0 MB)\n",
            "\u001b[2K     \u001b[90m━━━━━━━━━━━━━━━━━━━━━━━━━━━━━━━━━━━━━━━━\u001b[0m \u001b[32m3.0/3.0 MB\u001b[0m \u001b[31m14.5 MB/s\u001b[0m eta \u001b[36m0:00:00\u001b[0m00:01\u001b[0m00:01\u001b[0m\n",
            "\u001b[?25hCollecting contourpy>=1.0.1\n",
            "  Downloading contourpy-1.0.7-cp310-cp310-macosx_11_0_arm64.whl (229 kB)\n",
            "\u001b[2K     \u001b[90m━━━━━━━━━━━━━━━━━━━━━━━━━━━━━━━━━━━━━━\u001b[0m \u001b[32m229.7/229.7 kB\u001b[0m \u001b[31m12.2 MB/s\u001b[0m eta \u001b[36m0:00:00\u001b[0m\n",
            "\u001b[?25hCollecting cycler>=0.10\n",
            "  Using cached cycler-0.11.0-py3-none-any.whl (6.4 kB)\n",
            "Collecting fonttools>=4.22.0\n",
            "  Downloading fonttools-4.39.2-py3-none-any.whl (1.0 MB)\n",
            "\u001b[2K     \u001b[90m━━━━━━━━━━━━━━━━━━━━━━━━━━━━━━━━━━━━━━━━\u001b[0m \u001b[32m1.0/1.0 MB\u001b[0m \u001b[31m17.3 MB/s\u001b[0m eta \u001b[36m0:00:00\u001b[0ma \u001b[36m0:00:01\u001b[0m\n",
            "\u001b[?25hRequirement already satisfied: packaging>=20.0 in ./.conda/lib/python3.10/site-packages (from matplotlib) (23.0)\n",
            "Collecting kiwisolver>=1.0.1\n",
            "  Using cached kiwisolver-1.4.4-cp310-cp310-macosx_11_0_arm64.whl (63 kB)\n",
            "Collecting pyparsing>=2.3.1\n",
            "  Using cached pyparsing-3.0.9-py3-none-any.whl (98 kB)\n",
            "Requirement already satisfied: six>=1.5 in ./.conda/lib/python3.10/site-packages (from python-dateutil>=2.7->matplotlib) (1.16.0)\n",
            "Installing collected packages: pyparsing, pillow, kiwisolver, fonttools, cycler, contourpy, matplotlib\n",
            "Successfully installed contourpy-1.0.7 cycler-0.11.0 fonttools-4.39.2 kiwisolver-1.4.4 matplotlib-3.7.1 pillow-9.4.0 pyparsing-3.0.9\n",
            "Note: you may need to restart the kernel to use updated packages.\n"
          ]
        }
      ],
      "source": [
        "%pip install scipy matplotlib"
      ]
    },
    {
      "attachments": {},
      "cell_type": "markdown",
      "metadata": {},
      "source": [
        "First, visualize the plain waveform for a particular audio file:"
      ]
    },
    {
      "cell_type": "code",
      "execution_count": 126,
      "metadata": {},
      "outputs": [
        {
          "name": "stdout",
          "output_type": "stream",
          "text": [
            "Speaker ID: 1034\n",
            "Chapter ID: 121119\n",
            "Utterance ID: 1034_121119_000019_000001\n",
            "Original text: Your name?\"\n",
            "Normalized text: Your name?\"\n",
            "\n",
            "Waveform shape: torch.Size([1, 17520])\n",
            "Waveform shape (squeezed): torch.Size([17520])\n",
            "Sample rate: 24000 Hz\n"
          ]
        },
        {
          "data": {
            "image/png": "[encoded data removed]",
            "text/plain": [
              "<Figure size 800x300 with 1 Axes>"
            ]
          },
          "metadata": {},
          "output_type": "display_data"
        }
      ],
      "source": [
        "import scipy\n",
        "import matplotlib.pyplot as plt\n",
        "\n",
        "item = data[7]\n",
        "waveform, sample_rate, original_text, normalized_text, speaker_id, chapter_id, utterance_id = item\n",
        "\n",
        "print(f\"Speaker ID: {speaker_id}\")\n",
        "print(f\"Chapter ID: {chapter_id}\")\n",
        "print(f\"Utterance ID: {utterance_id}\")\n",
        "print(f\"Original text: {original_text}\")\n",
        "print(f\"Normalized text: {normalized_text}\")\n",
        "print()\n",
        "print(f\"Waveform shape: {waveform.shape}\")\n",
        "print(f\"Waveform shape (squeezed): {waveform.squeeze().shape}\")\n",
        "print(f\"Sample rate: {sample_rate} Hz\")\n",
        "\n",
        "plt.figure(figsize=(8,3))\n",
        "plt.plot(waveform.t().numpy())\n",
        "plt.xlabel(\"Sample number\")\n",
        "plt.show()"
      ]
    },
    {
      "attachments": {},
      "cell_type": "markdown",
      "metadata": {},
      "source": [
        "Then, generate a spectrogram and render it:"
      ]
    },
    {
      "cell_type": "code",
      "execution_count": 127,
      "metadata": {},
      "outputs": [
        {
          "name": "stdout",
          "output_type": "stream",
          "text": [
            "(129,) float64\n",
            "(78,) float64\n",
            "(129, 78) float32\n"
          ]
        },
        {
          "data": {
            "image/png": "[encoded data removed]",
            "text/plain": [
              "<Figure size 800x300 with 1 Axes>"
            ]
          },
          "metadata": {},
          "output_type": "display_data"
        }
      ],
      "source": [
        "frequencies, times, spectrogram = scipy.signal.spectrogram(waveform.squeeze(), sample_rate)\n",
        "\n",
        "print(frequencies.shape, frequencies.dtype)\n",
        "print(times.shape, times.dtype)\n",
        "print(spectrogram.shape, spectrogram.dtype)\n",
        "\n",
        "plt.figure(figsize=(8,3))\n",
        "plt.pcolormesh(times, frequencies, spectrogram)\n",
        "plt.imshow(spectrogram)\n",
        "plt.ylabel('Frequency [Hz]')\n",
        "plt.xlabel('Time [sec]')\n",
        "plt.show()"
      ]
    },
    {
      "attachments": {},
      "cell_type": "markdown",
      "metadata": {},
      "source": [
        "# Transcribe audio using model"
      ]
    },
    {
      "cell_type": "code",
      "execution_count": 10,
      "metadata": {
        "colab": {
          "base_uri": "https://localhost:8080/"
        },
        "id": "LKlPAB2miaBY",
        "outputId": "b2f9afb3-fa6d-4737-9998-82c686f0b41e"
      },
      "outputs": [
        {
          "name": "stderr",
          "output_type": "stream",
          "text": [
            "/Users/pulljosh/Code/speech-recognition/.conda/lib/python3.10/site-packages/whisper/transcribe.py:114: UserWarning: FP16 is not supported on CPU; using FP32 instead\n",
            "  warnings.warn(\"FP16 is not supported on CPU; using FP32 instead\")\n",
            "/Users/pulljosh/Code/speech-recognition/.conda/lib/python3.10/site-packages/whisper/transcribe.py:114: UserWarning: FP16 is not supported on CPU; using FP32 instead\n",
            "  warnings.warn(\"FP16 is not supported on CPU; using FP32 instead\")\n",
            "/Users/pulljosh/Code/speech-recognition/.conda/lib/python3.10/site-packages/whisper/transcribe.py:114: UserWarning: FP16 is not supported on CPU; using FP32 instead\n",
            "  warnings.warn(\"FP16 is not supported on CPU; using FP32 instead\")\n",
            "/Users/pulljosh/Code/speech-recognition/.conda/lib/python3.10/site-packages/whisper/transcribe.py:114: UserWarning: FP16 is not supported on CPU; using FP32 instead\n",
            "  warnings.warn(\"FP16 is not supported on CPU; using FP32 instead\")\n",
            "/Users/pulljosh/Code/speech-recognition/.conda/lib/python3.10/site-packages/whisper/transcribe.py:114: UserWarning: FP16 is not supported on CPU; using FP32 instead\n",
            "  warnings.warn(\"FP16 is not supported on CPU; using FP32 instead\")\n",
            "/Users/pulljosh/Code/speech-recognition/.conda/lib/python3.10/site-packages/whisper/transcribe.py:114: UserWarning: FP16 is not supported on CPU; using FP32 instead\n",
            "  warnings.warn(\"FP16 is not supported on CPU; using FP32 instead\")\n",
            "/Users/pulljosh/Code/speech-recognition/.conda/lib/python3.10/site-packages/whisper/transcribe.py:114: UserWarning: FP16 is not supported on CPU; using FP32 instead\n",
            "  warnings.warn(\"FP16 is not supported on CPU; using FP32 instead\")\n",
            "/Users/pulljosh/Code/speech-recognition/.conda/lib/python3.10/site-packages/whisper/transcribe.py:114: UserWarning: FP16 is not supported on CPU; using FP32 instead\n",
            "  warnings.warn(\"FP16 is not supported on CPU; using FP32 instead\")\n",
            "/Users/pulljosh/Code/speech-recognition/.conda/lib/python3.10/site-packages/whisper/transcribe.py:114: UserWarning: FP16 is not supported on CPU; using FP32 instead\n",
            "  warnings.warn(\"FP16 is not supported on CPU; using FP32 instead\")\n",
            "/Users/pulljosh/Code/speech-recognition/.conda/lib/python3.10/site-packages/whisper/transcribe.py:114: UserWarning: FP16 is not supported on CPU; using FP32 instead\n",
            "  warnings.warn(\"FP16 is not supported on CPU; using FP32 instead\")\n",
            "/Users/pulljosh/Code/speech-recognition/.conda/lib/python3.10/site-packages/whisper/transcribe.py:114: UserWarning: FP16 is not supported on CPU; using FP32 instead\n",
            "  warnings.warn(\"FP16 is not supported on CPU; using FP32 instead\")\n"
          ]
        }
      ],
      "source": [
        "# transcribe audios using model\n",
        "\n",
        "dir = 'audio'\n",
        "\n",
        "transcripts = {}\n",
        "\n",
        "for filename in os.listdir(dir):\n",
        "  name = os.path.join(dir, filename)\n",
        "\n",
        "  if os.path.isfile(name):\n",
        "     if filename.endswith('.wav'):\n",
        "       result = model.transcribe(name)\n",
        "       id = filename.split('.')[0]\n",
        "       transcripts[id] = result['text']"
      ]
    },
    {
      "cell_type": "code",
      "execution_count": 11,
      "metadata": {
        "colab": {
          "base_uri": "https://localhost:8080/"
        },
        "id": "zi_fs_I1f2FH",
        "outputId": "953c701b-9bb7-46e9-bf54-31cf42404395"
      },
      "outputs": [
        {
          "data": {
            "text/plain": [
              "{'84_121123_000009_000000': ' But in less than five minutes, the staircase groaned beneath an extraordinary weight.',\n",
              " '84_121123_000010_000000': ' Villafort drew back and looked with astonishment on the young man, who almost a stranger to him called Nwatiya his father.',\n",
              " 'test1': \" He's fit to hear what's said here.\",\n",
              " '84_121123_000009_000007': ' See what they have done? Cride Morrell with one hand leaning on the back of the chair and the other extending towards Valentine.',\n",
              " '84_121123_000008_000004': ' Go! Do you hear?\" said Villafort, while Davenie advanced to lead Moral out.',\n",
              " '84_121123_000008_000003': ' Who are you, sir?\" he asked. That forget that this is not the manner to enter a house stricken with death? Go, sir! Go! But Morale remained motionless. He could not detach his eyes from that disordered bed and the pale corpse of the young girl who was lying on it.',\n",
              " '84_121123_000008_000002': ' His glance at first wandering fixed itself upon Moral.',\n",
              " '84_121123_000008_000000': ' Villafort rose half ashamed of being surprised in such a proxism of grief.',\n",
              " '84_121123_000008_000001': ' The terrible office he had held for 25 years had succeeded in making him more or less than man.',\n",
              " '84_121123_000009_000008': ' See my father, see?',\n",
              " '84_121123_000007_000001': ' Maximilian.'}"
            ]
          },
          "execution_count": 11,
          "metadata": {},
          "output_type": "execute_result"
        }
      ],
      "source": [
        "transcripts"
      ]
    },
    {
      "attachments": {},
      "cell_type": "markdown",
      "metadata": {},
      "source": [
        "# Measure accuracy"
      ]
    },
    {
      "cell_type": "code",
      "execution_count": 12,
      "metadata": {
        "id": "-9pmcpo0f2FH"
      },
      "outputs": [],
      "source": [
        "# organize ground truths\n",
        "ground_truths = {}\n",
        "\n",
        "for filename in os.listdir(dir):\n",
        "  name = os.path.join(dir, filename)\n",
        "\n",
        "  if os.path.isfile(name):\n",
        "    if filename.endswith('.txt') and 'original' in filename:\n",
        "      id = filename.split('.')[0]\n",
        "      \n",
        "      with open(name) as txt:\n",
        "        ground_truths[id] = txt.read()"
      ]
    },
    {
      "cell_type": "code",
      "execution_count": 13,
      "metadata": {
        "colab": {
          "base_uri": "https://localhost:8080/"
        },
        "id": "Vo4G_kt3f2FH",
        "outputId": "7dbdb2a7-c6fd-49c2-f70c-e6949448a9be"
      },
      "outputs": [
        {
          "data": {
            "text/plain": [
              "{'84_121123_000008_000002': 'His glance, at first wandering, fixed itself upon Morrel.',\n",
              " '84_121123_000008_000003': '\"Who are you, sir,\" he asked, \"that forget that this is not the manner to enter a house stricken with death? Go, sir, go!\" But Morrel remained motionless; he could not detach his eyes from that disordered bed, and the pale corpse of the young girl who was lying on it.',\n",
              " '84_121123_000008_000004': '\"Go!--do you hear?\" said Villefort, while d\\'Avrigny advanced to lead Morrel out.',\n",
              " '84_121123_000009_000008': '\"See, my father, see!\"',\n",
              " '84_121123_000007_000001': 'Maximilian.',\n",
              " '84_121123_000008_000001': 'The terrible office he had held for twenty-five years had succeeded in making him more or less than man.',\n",
              " '84_121123_000009_000007': '\"See what they have done!\" cried Morrel, with one hand leaning on the back of the chair, and the other extended towards Valentine.',\n",
              " '84_121123_000009_000000': 'But in less than five minutes the staircase groaned beneath an extraordinary weight.',\n",
              " '84_121123_000010_000000': 'Villefort drew back and looked with astonishment on the young man, who, almost a stranger to him, called Noirtier his father.',\n",
              " '84_121123_000008_000000': 'Villefort rose, half ashamed of being surprised in such a paroxysm of grief.'}"
            ]
          },
          "execution_count": 13,
          "metadata": {},
          "output_type": "execute_result"
        }
      ],
      "source": [
        "ground_truths"
      ]
    },
    {
      "cell_type": "code",
      "execution_count": 15,
      "metadata": {
        "colab": {
          "base_uri": "https://localhost:8080/"
        },
        "id": "X9tAHDqBf2FI",
        "outputId": "e8e78135-982f-4836-c2a8-fcd70f6179f9"
      },
      "outputs": [
        {
          "name": "stdout",
          "output_type": "stream",
          "text": [
            "['But', 'in', 'less', 'than', 'five', 'minutes', 'the', 'staircase', 'groaned', 'beneath', 'an', 'extraordinary', 'weight']\n",
            "['But', 'in', 'less', 'than', 'five', 'minutes', 'the', 'staircase', 'groaned', 'beneath', 'an', 'extraordinary', 'weight']\n",
            "['Villefort', 'drew', 'back', 'and', 'looked', 'with', 'astonishment', 'on', 'the', 'young', 'man', 'who', 'almost', 'a', 'stranger', 'to', 'him', 'called', 'Noirtier', 'his', 'father']\n",
            "['Villafort', 'drew', 'back', 'and', 'looked', 'with', 'astonishment', 'on', 'the', 'young', 'man', 'who', 'almost', 'a', 'stranger', 'to', 'him', 'called', 'Nwatiya', 'his', 'father']\n"
          ]
        },
        {
          "ename": "KeyError",
          "evalue": "'test1'",
          "output_type": "error",
          "traceback": [
            "\u001b[0;31m---------------------------------------------------------------------------\u001b[0m",
            "\u001b[0;31mKeyError\u001b[0m                                  Traceback (most recent call last)",
            "Cell \u001b[0;32mIn[15], line 4\u001b[0m\n\u001b[1;32m      2\u001b[0m success \u001b[39m=\u001b[39m \u001b[39m0\u001b[39m\n\u001b[1;32m      3\u001b[0m \u001b[39mfor\u001b[39;00m key, text \u001b[39min\u001b[39;00m transcripts\u001b[39m.\u001b[39mitems():\n\u001b[0;32m----> 4\u001b[0m   truth \u001b[39m=\u001b[39m ground_truths[key]\n\u001b[1;32m      5\u001b[0m   truth_seq \u001b[39m=\u001b[39m re\u001b[39m.\u001b[39msub(\u001b[39m'\u001b[39m\u001b[39m[\u001b[39m\u001b[39m'\u001b[39m\u001b[39m+\u001b[39mstring\u001b[39m.\u001b[39mpunctuation\u001b[39m+\u001b[39m\u001b[39m'\u001b[39m\u001b[39m]\u001b[39m\u001b[39m'\u001b[39m, \u001b[39m'\u001b[39m\u001b[39m'\u001b[39m, truth)\u001b[39m.\u001b[39msplit()\n\u001b[1;32m      6\u001b[0m   seq \u001b[39m=\u001b[39m re\u001b[39m.\u001b[39msub(\u001b[39m'\u001b[39m\u001b[39m[\u001b[39m\u001b[39m'\u001b[39m\u001b[39m+\u001b[39mstring\u001b[39m.\u001b[39mpunctuation\u001b[39m+\u001b[39m\u001b[39m'\u001b[39m\u001b[39m]\u001b[39m\u001b[39m'\u001b[39m,\u001b[39m'\u001b[39m\u001b[39m'\u001b[39m,text)\u001b[39m.\u001b[39msplit()\n",
            "\u001b[0;31mKeyError\u001b[0m: 'test1'"
          ]
        }
      ],
      "source": [
        "# Calculate number of correct transcripts\n",
        "success = 0\n",
        "for key, text in transcripts.items():\n",
        "  truth = ground_truths[key]\n",
        "  truth_seq = re.sub('['+string.punctuation+']', '', truth).split()\n",
        "  seq = re.sub('['+string.punctuation+']','',text).split()\n",
        "  print(truth_seq)\n",
        "  print(seq)\n",
        "  if truth_seq == seq:\n",
        "    success += 1"
      ]
    },
    {
      "cell_type": "code",
      "execution_count": 17,
      "metadata": {
        "colab": {
          "base_uri": "https://localhost:8080/"
        },
        "id": "4v_xHhnuf2FI",
        "outputId": "ef249080-81fa-4098-da09-dd29d14fe1ac"
      },
      "outputs": [
        {
          "name": "stdout",
          "output_type": "stream",
          "text": [
            "0.1\n"
          ]
        }
      ],
      "source": [
        "# Calculate accuracy\n",
        "accuracy = success / len(ground_truths.keys())\n",
        "print(accuracy)"
      ]
    },
    {
      "cell_type": "markdown",
      "metadata": {
        "id": "S3F95mmFva9t"
      },
      "source": [
        "### Notes\n",
        "- Evaluation is hard. What about slight differences?\n",
        "- Ground truths are possibly noisy."
      ]
    }
  ],
  "metadata": {
    "colab": {
      "provenance": []
    },
    "kernelspec": {
      "display_name": "Python 3",
      "language": "python",
      "name": "python3"
    },
    "language_info": {
      "codemirror_mode": {
        "name": "ipython",
        "version": 3
      },
      "file_extension": ".py",
      "mimetype": "text/x-python",
      "name": "python",
      "nbconvert_exporter": "python",
      "pygments_lexer": "ipython3",
      "version": "3.10.9"
    }
  },
  "nbformat": 4,
  "nbformat_minor": 0
}
