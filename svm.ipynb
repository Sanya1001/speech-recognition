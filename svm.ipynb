{
 "cells": [
  {
   "cell_type": "code",
   "execution_count": 9,
   "metadata": {},
   "outputs": [],
   "source": [
    "import torch\n",
    "import torchaudio\n",
    "\n",
    "# data = torchaudio.datasets.LIBRITTS(root=\"data\", url=\"train-clean-100\", download=True)\n",
    "# data_loader = torch.utils.data.DataLoader(data, batch_size=1, shuffle=True)\n",
    "\n",
    "\n",
    "def __init__(self, epochs, rate=0.0001):\n",
    "    self.epochs = epochs\n",
    "    self.rate = rate\n",
    "    self.current_epoch = 1\n",
    "\n",
    "    self.w1 = np.float64(0)\n",
    "    self.w2 = np.float64(0)\n",
    "    self.b = np.float64(0)\n",
    "\n",
    "def fit(self, data, classes):\n",
    "    for epoch in range(self.current_epoch, self.epochs):\n",
    "        self.current_epoch = epoch\n",
    "        y_pred = (self.w1 * data[:, 0] + self.w2 * data[:, 1] + self.b) * classes\n",
    "\n",
    "    for index, value in enumerate(y_pred):\n",
    "                if value < 1:\n",
    "                    m1_deriv += data[index, 0] * classes[index]\n",
    "                    m2_deriv += data[index, 1] * classes[index]\n",
    "                    b_deriv += classes[index]\n",
    "\n",
    "    self.w1 += self.rate * (m1_deriv - 2 * self.regularization() * self.w1)\n",
    "    self.w2 += self.rate * (m2_deriv - 2 * self.regularization() * self.w2)\n",
    "    self.b += self.rate * (b_deriv - 2 * self.regularization() * self.b)\n",
    "\n",
    "def regularization(self) -> float:\n",
    "    return 1 / self.current_epoch\n"
   ]
  }
 ],
 "metadata": {
  "kernelspec": {
   "display_name": "Python 3",
   "language": "python",
   "name": "python3"
  },
  "language_info": {
   "codemirror_mode": {
    "name": "ipython",
    "version": 3
   },
   "file_extension": ".py",
   "mimetype": "text/x-python",
   "name": "python",
   "nbconvert_exporter": "python",
   "pygments_lexer": "ipython3",
   "version": "3.10.2"
  },
  "orig_nbformat": 4
 },
 "nbformat": 4,
 "nbformat_minor": 2
}
