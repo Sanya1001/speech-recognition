{
  "cells": [
    {
      "cell_type": "markdown",
      "id": "75b58048-7d14-4fc6-8085-1fc08c81b4a6",
      "metadata": {
        "id": "75b58048-7d14-4fc6-8085-1fc08c81b4a6"
      },
      "source": [
        "# Fine-Tune Whisper For Multilingual ASR with 🤗 Transformers"
      ]
    },
    {
      "cell_type": "markdown",
      "id": "fbfa8ad5-4cdc-4512-9058-836cbbf65e1a",
      "metadata": {
        "id": "fbfa8ad5-4cdc-4512-9058-836cbbf65e1a"
      },
      "source": [
        "In this Colab, we present a step-by-step guide on how to fine-tune Whisper \n",
        "for any multilingual ASR dataset using Hugging Face 🤗 Transformers. This is a \n",
        "more \"hands-on\" version of the accompanying [blog post](https://huggingface.co/blog/fine-tune-whisper). \n",
        "For a more in-depth explanation of Whisper, the Common Voice dataset and the theory behind fine-tuning, the reader is advised to refer to the blog post."
      ]
    },
    {
      "cell_type": "markdown",
      "id": "afe0d503-ae4e-4aa7-9af4-dbcba52db41e",
      "metadata": {
        "id": "afe0d503-ae4e-4aa7-9af4-dbcba52db41e"
      },
      "source": [
        "## Introduction"
      ]
    },
    {
      "cell_type": "markdown",
      "id": "9ae91ed4-9c3e-4ade-938e-f4c2dcfbfdc0",
      "metadata": {
        "id": "9ae91ed4-9c3e-4ade-938e-f4c2dcfbfdc0"
      },
      "source": [
        "Whisper is a pre-trained model for automatic speech recognition (ASR) \n",
        "published in [September 2022](https://openai.com/blog/whisper/) by the authors \n",
        "Alec Radford et al. from OpenAI. Unlike many of its predecessors, such as \n",
        "[Wav2Vec 2.0](https://arxiv.org/abs/2006.11477), which are pre-trained \n",
        "on un-labelled audio data, Whisper is pre-trained on a vast quantity of \n",
        "**labelled** audio-transcription data, 680,000 hours to be precise. \n",
        "This is an order of magnitude more data than the un-labelled audio data used \n",
        "to train Wav2Vec 2.0 (60,000 hours). What is more, 117,000 hours of this \n",
        "pre-training data is multilingual ASR data. This results in checkpoints \n",
        "that can be applied to over 96 languages, many of which are considered \n",
        "_low-resource_.\n",
        "\n",
        "When scaled to 680,000 hours of labelled pre-training data, Whisper models \n",
        "demonstrate a strong ability to generalise to many datasets and domains.\n",
        "The pre-trained checkpoints achieve competitive results to state-of-the-art \n",
        "ASR systems, with near 3% word error rate (WER) on the test-clean subset of \n",
        "LibriSpeech ASR and a new state-of-the-art on TED-LIUM with 4.7% WER (_c.f._ \n",
        "Table 8 of the [Whisper paper](https://cdn.openai.com/papers/whisper.pdf)).\n",
        "The extensive multilingual ASR knowledge acquired by Whisper during pre-training \n",
        "can be leveraged for other low-resource languages; through fine-tuning, the \n",
        "pre-trained checkpoints can be adapted for specific datasets and languages \n",
        "to further improve upon these results. We'll show just how Whisper can be fine-tuned \n",
        "for low-resource languages in this Colab."
      ]
    },
    {
      "cell_type": "markdown",
      "id": "e59b91d6-be24-4b5e-bb38-4977ea143a72",
      "metadata": {
        "id": "e59b91d6-be24-4b5e-bb38-4977ea143a72"
      },
      "source": [
        "<figure>\n",
        "<img src=\"https://raw.githubusercontent.com/sanchit-gandhi/notebooks/main/whisper_architecture.svg\" alt=\"Trulli\" style=\"width:100%\">\n",
        "<figcaption align = \"center\"><b>Figure 1:</b> Whisper model. The architecture \n",
        "follows the standard Transformer-based encoder-decoder model. A \n",
        "log-Mel spectrogram is input to the encoder. The last encoder \n",
        "hidden states are input to the decoder via cross-attention mechanisms. The \n",
        "decoder autoregressively predicts text tokens, jointly conditional on the \n",
        "encoder hidden states and previously predicted tokens. Figure source: \n",
        "<a href=\"https://openai.com/blog/whisper/\">OpenAI Whisper Blog</a>.</figcaption>\n",
        "</figure>"
      ]
    },
    {
      "cell_type": "markdown",
      "id": "21b6316e-8a55-4549-a154-66d3da2ab74a",
      "metadata": {
        "id": "21b6316e-8a55-4549-a154-66d3da2ab74a"
      },
      "source": [
        "The Whisper checkpoints come in five configurations of varying model sizes.\n",
        "The smallest four are trained on either English-only or multilingual data.\n",
        "The largest checkpoint is multilingual only. All nine of the pre-trained checkpoints \n",
        "are available on the [Hugging Face Hub](https://huggingface.co/models?search=openai/whisper). The \n",
        "checkpoints are summarised in the following table with links to the models on the Hub:\n",
        "\n",
        "| Size   | Layers | Width | Heads | Parameters | English-only                                         | Multilingual                                      |\n",
        "|--------|--------|-------|-------|------------|------------------------------------------------------|---------------------------------------------------|\n",
        "| tiny   | 4      | 384   | 6     | 39 M       | [✓](https://huggingface.co/openai/whisper-tiny.en)   | [✓](https://huggingface.co/openai/whisper-tiny.)  |\n",
        "| base   | 6      | 512   | 8     | 74 M       | [✓](https://huggingface.co/openai/whisper-base.en)   | [✓](https://huggingface.co/openai/whisper-base)   |\n",
        "| small  | 12     | 768   | 12    | 244 M      | [✓](https://huggingface.co/openai/whisper-small.en)  | [✓](https://huggingface.co/openai/whisper-small)  |\n",
        "| medium | 24     | 1024  | 16    | 769 M      | [✓](https://huggingface.co/openai/whisper-medium.en) | [✓](https://huggingface.co/openai/whisper-medium) |\n",
        "| large  | 32     | 1280  | 20    | 1550 M     | x                                                    | [✓](https://huggingface.co/openai/whisper-large)  |\n",
        "\n",
        "For demonstration purposes, we'll fine-tune the multilingual version of the \n",
        "[`\"small\"`](https://huggingface.co/openai/whisper-small) checkpoint with 244M params (~= 1GB). \n",
        "As for our data, we'll train and evaluate our system on a low-resource language \n",
        "taken from the [Common Voice](https://huggingface.co/datasets/mozilla-foundation/common_voice_11_0)\n",
        "dataset. We'll show that with as little as 8 hours of fine-tuning data, we can achieve \n",
        "strong performance in this language."
      ]
    },
    {
      "cell_type": "markdown",
      "id": "3a680dfc-cbba-4f6c-8a1f-e1a5ff3f123a",
      "metadata": {
        "id": "3a680dfc-cbba-4f6c-8a1f-e1a5ff3f123a"
      },
      "source": [
        "------------------------------------------------------------------------\n",
        "\n",
        "\\\\({}^1\\\\) The name Whisper follows from the acronym “WSPSR”, which stands for “Web-scale Supervised Pre-training for Speech Recognition”."
      ]
    },
    {
      "cell_type": "markdown",
      "id": "55fb8d21-df06-472a-99dd-b59567be6dad",
      "metadata": {
        "id": "55fb8d21-df06-472a-99dd-b59567be6dad"
      },
      "source": [
        "## Prepare Environment"
      ]
    },
    {
      "cell_type": "markdown",
      "id": "844a4861-929c-4762-b29b-80b1e95aba4b",
      "metadata": {
        "id": "844a4861-929c-4762-b29b-80b1e95aba4b"
      },
      "source": [
        "First of all, let's try to secure a decent GPU for our Colab! Unfortunately, it's becoming much harder to get access to a good GPU with the free version of Google Colab. However, with Google Colab Pro one should have no issues in being allocated a V100 or P100 GPU.\n",
        "\n",
        "To get a GPU, click _Runtime_ -> _Change runtime type_, then change _Hardware accelerator_ from _None_ to _GPU_."
      ]
    },
    {
      "cell_type": "markdown",
      "id": "9abea5d7-9d54-434b-a6bd-399d1b3c6c1a",
      "metadata": {
        "id": "9abea5d7-9d54-434b-a6bd-399d1b3c6c1a"
      },
      "source": [
        "We can verify that we've been assigned a GPU and view its specifications:"
      ]
    },
    {
      "cell_type": "code",
      "execution_count": 1,
      "id": "95048026-a3b7-43f0-a274-1bad65e407b4",
      "metadata": {
        "colab": {
          "base_uri": "https://localhost:8080/"
        },
        "id": "95048026-a3b7-43f0-a274-1bad65e407b4",
        "outputId": "5def312c-b15e-458b-d7ca-d8e02ffb365e"
      },
      "outputs": [
        {
          "name": "stdout",
          "output_type": "stream",
          "text": [
            "zsh:1: command not found: nvidia-smi\n"
          ]
        }
      ],
      "source": [
        "gpu_info = !nvidia-smi\n",
        "gpu_info = '\\n'.join(gpu_info)\n",
        "if gpu_info.find('failed') >= 0:\n",
        "  print('Not connected to a GPU')\n",
        "else:\n",
        "  print(gpu_info)"
      ]
    },
    {
      "cell_type": "markdown",
      "id": "1d85d613-1c7e-46ac-9134-660bbe7ebc9d",
      "metadata": {
        "id": "1d85d613-1c7e-46ac-9134-660bbe7ebc9d"
      },
      "source": [
        "We'll employ several popular Python packages to fine-tune the Whisper model.\n",
        "We'll use `datasets` to download and prepare our training data and \n",
        "`transformers` to load and train our Whisper model. We'll also require\n",
        "the `soundfile` package to pre-process audio files, `evaluate` and `jiwer` to\n",
        "assess the performance of our model. Finally, we'll\n",
        "use `gradio` to build a flashy demo of our fine-tuned model."
      ]
    },
    {
      "cell_type": "code",
      "execution_count": 2,
      "id": "e68ea9f8-9b61-414e-8885-3033b67c2850",
      "metadata": {
        "colab": {
          "base_uri": "https://localhost:8080/"
        },
        "id": "e68ea9f8-9b61-414e-8885-3033b67c2850",
        "outputId": "4c5414c2-1c01-49a6-f7be-f84fcd6bafad"
      },
      "outputs": [
        {
          "name": "stdout",
          "output_type": "stream",
          "text": [
            "zsh:1: 2.6.1 not found\n",
            "Collecting git+https://github.com/huggingface/transformers\n",
            "  Cloning https://github.com/huggingface/transformers to /private/var/folders/py/bg01sqvn7sg74g1d70cyr8d40000gn/T/pip-req-build-pcp7ph4t\n",
            "  Running command git clone --filter=blob:none --quiet https://github.com/huggingface/transformers /private/var/folders/py/bg01sqvn7sg74g1d70cyr8d40000gn/T/pip-req-build-pcp7ph4t\n",
            "  Resolved https://github.com/huggingface/transformers to commit 370f0ca18c8e4577357df59936e790acdecef4ac\n",
            "  Installing build dependencies ... \u001b[?25ldone\n",
            "\u001b[?25h  Getting requirements to build wheel ... \u001b[?25ldone\n",
            "\u001b[?25h  Preparing metadata (pyproject.toml) ... \u001b[?25ldone\n",
            "\u001b[?25hRequirement already satisfied: pyyaml>=5.1 in ./.conda/lib/python3.10/site-packages (from transformers==4.28.0.dev0) (6.0)\n",
            "Requirement already satisfied: huggingface-hub<1.0,>=0.11.0 in ./.conda/lib/python3.10/site-packages (from transformers==4.28.0.dev0) (0.13.4)\n",
            "Requirement already satisfied: requests in ./.conda/lib/python3.10/site-packages (from transformers==4.28.0.dev0) (2.28.2)\n",
            "Requirement already satisfied: tokenizers!=0.11.3,<0.14,>=0.11.1 in ./.conda/lib/python3.10/site-packages (from transformers==4.28.0.dev0) (0.13.3)\n",
            "Requirement already satisfied: numpy>=1.17 in ./.conda/lib/python3.10/site-packages (from transformers==4.28.0.dev0) (1.23.5)\n",
            "Requirement already satisfied: tqdm>=4.27 in ./.conda/lib/python3.10/site-packages (from transformers==4.28.0.dev0) (4.65.0)\n",
            "Requirement already satisfied: filelock in ./.conda/lib/python3.10/site-packages (from transformers==4.28.0.dev0) (3.10.1)\n",
            "Requirement already satisfied: regex!=2019.12.17 in ./.conda/lib/python3.10/site-packages (from transformers==4.28.0.dev0) (2022.10.31)\n",
            "Requirement already satisfied: packaging>=20.0 in ./.conda/lib/python3.10/site-packages (from transformers==4.28.0.dev0) (23.0)\n",
            "Requirement already satisfied: typing-extensions>=3.7.4.3 in ./.conda/lib/python3.10/site-packages (from huggingface-hub<1.0,>=0.11.0->transformers==4.28.0.dev0) (4.5.0)\n",
            "Requirement already satisfied: idna<4,>=2.5 in ./.conda/lib/python3.10/site-packages (from requests->transformers==4.28.0.dev0) (3.4)\n",
            "Requirement already satisfied: certifi>=2017.4.17 in ./.conda/lib/python3.10/site-packages (from requests->transformers==4.28.0.dev0) (2022.12.7)\n",
            "Requirement already satisfied: charset-normalizer<4,>=2 in ./.conda/lib/python3.10/site-packages (from requests->transformers==4.28.0.dev0) (3.1.0)\n",
            "Requirement already satisfied: urllib3<1.27,>=1.21.1 in ./.conda/lib/python3.10/site-packages (from requests->transformers==4.28.0.dev0) (1.26.15)\n",
            "Requirement already satisfied: librosa in ./.conda/lib/python3.10/site-packages (0.10.0.post2)\n",
            "Requirement already satisfied: soundfile>=0.12.1 in ./.conda/lib/python3.10/site-packages (from librosa) (0.12.1)\n",
            "Requirement already satisfied: pooch<1.7,>=1.0 in ./.conda/lib/python3.10/site-packages (from librosa) (1.6.0)\n",
            "Requirement already satisfied: lazy-loader>=0.1 in ./.conda/lib/python3.10/site-packages (from librosa) (0.2)\n",
            "Requirement already satisfied: audioread>=2.1.9 in ./.conda/lib/python3.10/site-packages (from librosa) (3.0.0)\n",
            "Requirement already satisfied: soxr>=0.3.2 in ./.conda/lib/python3.10/site-packages (from librosa) (0.3.4)\n",
            "Requirement already satisfied: numba>=0.51.0 in ./.conda/lib/python3.10/site-packages (from librosa) (0.56.4)\n",
            "Requirement already satisfied: scikit-learn>=0.20.0 in ./.conda/lib/python3.10/site-packages (from librosa) (1.2.2)\n",
            "Requirement already satisfied: typing-extensions>=4.1.1 in ./.conda/lib/python3.10/site-packages (from librosa) (4.5.0)\n",
            "Requirement already satisfied: msgpack>=1.0 in ./.conda/lib/python3.10/site-packages (from librosa) (1.0.5)\n",
            "Requirement already satisfied: joblib>=0.14 in ./.conda/lib/python3.10/site-packages (from librosa) (1.2.0)\n",
            "Requirement already satisfied: numpy!=1.22.0,!=1.22.1,!=1.22.2,>=1.20.3 in ./.conda/lib/python3.10/site-packages (from librosa) (1.23.5)\n",
            "Requirement already satisfied: scipy>=1.2.0 in ./.conda/lib/python3.10/site-packages (from librosa) (1.10.1)\n",
            "Requirement already satisfied: decorator>=4.3.0 in ./.conda/lib/python3.10/site-packages (from librosa) (5.1.1)\n",
            "Requirement already satisfied: setuptools in ./.conda/lib/python3.10/site-packages (from numba>=0.51.0->librosa) (67.6.0)\n",
            "Requirement already satisfied: llvmlite<0.40,>=0.39.0dev0 in ./.conda/lib/python3.10/site-packages (from numba>=0.51.0->librosa) (0.39.1)\n",
            "Requirement already satisfied: requests>=2.19.0 in ./.conda/lib/python3.10/site-packages (from pooch<1.7,>=1.0->librosa) (2.28.2)\n",
            "Requirement already satisfied: packaging>=20.0 in ./.conda/lib/python3.10/site-packages (from pooch<1.7,>=1.0->librosa) (23.0)\n",
            "Requirement already satisfied: appdirs>=1.3.0 in ./.conda/lib/python3.10/site-packages (from pooch<1.7,>=1.0->librosa) (1.4.4)\n",
            "Requirement already satisfied: threadpoolctl>=2.0.0 in ./.conda/lib/python3.10/site-packages (from scikit-learn>=0.20.0->librosa) (3.1.0)\n",
            "Requirement already satisfied: cffi>=1.0 in ./.conda/lib/python3.10/site-packages (from soundfile>=0.12.1->librosa) (1.15.1)\n",
            "Requirement already satisfied: pycparser in ./.conda/lib/python3.10/site-packages (from cffi>=1.0->soundfile>=0.12.1->librosa) (2.21)\n",
            "Requirement already satisfied: idna<4,>=2.5 in ./.conda/lib/python3.10/site-packages (from requests>=2.19.0->pooch<1.7,>=1.0->librosa) (3.4)\n",
            "Requirement already satisfied: urllib3<1.27,>=1.21.1 in ./.conda/lib/python3.10/site-packages (from requests>=2.19.0->pooch<1.7,>=1.0->librosa) (1.26.15)\n",
            "Requirement already satisfied: certifi>=2017.4.17 in ./.conda/lib/python3.10/site-packages (from requests>=2.19.0->pooch<1.7,>=1.0->librosa) (2022.12.7)\n",
            "Requirement already satisfied: charset-normalizer<4,>=2 in ./.conda/lib/python3.10/site-packages (from requests>=2.19.0->pooch<1.7,>=1.0->librosa) (3.1.0)\n",
            "zsh:1: 0.30 not found\n",
            "Requirement already satisfied: jiwer in ./.conda/lib/python3.10/site-packages (3.0.1)\n",
            "Requirement already satisfied: click<9.0.0,>=8.1.3 in ./.conda/lib/python3.10/site-packages (from jiwer) (8.1.3)\n",
            "Requirement already satisfied: rapidfuzz==2.13.7 in ./.conda/lib/python3.10/site-packages (from jiwer) (2.13.7)\n",
            "Requirement already satisfied: gradio in ./.conda/lib/python3.10/site-packages (3.25.0)\n",
            "Requirement already satisfied: fastapi in ./.conda/lib/python3.10/site-packages (from gradio) (0.95.0)\n",
            "Requirement already satisfied: markdown-it-py[linkify]>=2.0.0 in ./.conda/lib/python3.10/site-packages (from gradio) (2.2.0)\n",
            "Requirement already satisfied: markupsafe in ./.conda/lib/python3.10/site-packages (from gradio) (2.1.2)\n",
            "Requirement already satisfied: httpx in ./.conda/lib/python3.10/site-packages (from gradio) (0.24.0)\n",
            "Requirement already satisfied: ffmpy in ./.conda/lib/python3.10/site-packages (from gradio) (0.3.0)\n",
            "Requirement already satisfied: jinja2 in ./.conda/lib/python3.10/site-packages (from gradio) (3.1.2)\n",
            "Requirement already satisfied: uvicorn in ./.conda/lib/python3.10/site-packages (from gradio) (0.21.1)\n",
            "Requirement already satisfied: mdit-py-plugins<=0.3.3 in ./.conda/lib/python3.10/site-packages (from gradio) (0.3.3)\n",
            "Requirement already satisfied: gradio-client>=0.0.8 in ./.conda/lib/python3.10/site-packages (from gradio) (0.0.10)\n",
            "Requirement already satisfied: altair>=4.2.0 in ./.conda/lib/python3.10/site-packages (from gradio) (4.2.2)\n",
            "Requirement already satisfied: aiohttp in ./.conda/lib/python3.10/site-packages (from gradio) (3.8.4)\n",
            "Requirement already satisfied: pillow in ./.conda/lib/python3.10/site-packages (from gradio) (9.4.0)\n",
            "Requirement already satisfied: typing-extensions in ./.conda/lib/python3.10/site-packages (from gradio) (4.5.0)\n",
            "Requirement already satisfied: pydub in ./.conda/lib/python3.10/site-packages (from gradio) (0.25.1)\n",
            "Requirement already satisfied: pyyaml in ./.conda/lib/python3.10/site-packages (from gradio) (6.0)\n",
            "Requirement already satisfied: numpy in ./.conda/lib/python3.10/site-packages (from gradio) (1.23.5)\n",
            "Requirement already satisfied: huggingface-hub>=0.13.0 in ./.conda/lib/python3.10/site-packages (from gradio) (0.13.4)\n",
            "Requirement already satisfied: requests in ./.conda/lib/python3.10/site-packages (from gradio) (2.28.2)\n",
            "Requirement already satisfied: pydantic in ./.conda/lib/python3.10/site-packages (from gradio) (1.10.7)\n",
            "Requirement already satisfied: python-multipart in ./.conda/lib/python3.10/site-packages (from gradio) (0.0.6)\n",
            "Requirement already satisfied: pandas in ./.conda/lib/python3.10/site-packages (from gradio) (2.0.0)\n",
            "Requirement already satisfied: matplotlib in ./.conda/lib/python3.10/site-packages (from gradio) (3.7.1)\n",
            "Requirement already satisfied: semantic-version in ./.conda/lib/python3.10/site-packages (from gradio) (2.10.0)\n",
            "Requirement already satisfied: orjson in ./.conda/lib/python3.10/site-packages (from gradio) (3.8.10)\n",
            "Requirement already satisfied: websockets>=10.0 in ./.conda/lib/python3.10/site-packages (from gradio) (11.0.1)\n",
            "Requirement already satisfied: aiofiles in ./.conda/lib/python3.10/site-packages (from gradio) (23.1.0)\n",
            "Requirement already satisfied: jsonschema>=3.0 in ./.conda/lib/python3.10/site-packages (from altair>=4.2.0->gradio) (4.17.3)\n",
            "Requirement already satisfied: toolz in ./.conda/lib/python3.10/site-packages (from altair>=4.2.0->gradio) (0.12.0)\n",
            "Requirement already satisfied: entrypoints in ./.conda/lib/python3.10/site-packages (from altair>=4.2.0->gradio) (0.4)\n",
            "Requirement already satisfied: packaging in ./.conda/lib/python3.10/site-packages (from gradio-client>=0.0.8->gradio) (23.0)\n",
            "Requirement already satisfied: fsspec in ./.conda/lib/python3.10/site-packages (from gradio-client>=0.0.8->gradio) (2023.4.0)\n",
            "Requirement already satisfied: filelock in ./.conda/lib/python3.10/site-packages (from huggingface-hub>=0.13.0->gradio) (3.10.1)\n",
            "Requirement already satisfied: tqdm>=4.42.1 in ./.conda/lib/python3.10/site-packages (from huggingface-hub>=0.13.0->gradio) (4.65.0)\n",
            "Requirement already satisfied: mdurl~=0.1 in ./.conda/lib/python3.10/site-packages (from markdown-it-py[linkify]>=2.0.0->gradio) (0.1.2)\n",
            "Requirement already satisfied: linkify-it-py<3,>=1 in ./.conda/lib/python3.10/site-packages (from markdown-it-py[linkify]>=2.0.0->gradio) (2.0.0)\n",
            "Requirement already satisfied: pytz>=2020.1 in ./.conda/lib/python3.10/site-packages (from pandas->gradio) (2023.3)\n",
            "Requirement already satisfied: tzdata>=2022.1 in ./.conda/lib/python3.10/site-packages (from pandas->gradio) (2023.3)\n",
            "Requirement already satisfied: python-dateutil>=2.8.2 in ./.conda/lib/python3.10/site-packages (from pandas->gradio) (2.8.2)\n",
            "Requirement already satisfied: async-timeout<5.0,>=4.0.0a3 in ./.conda/lib/python3.10/site-packages (from aiohttp->gradio) (4.0.2)\n",
            "Requirement already satisfied: attrs>=17.3.0 in ./.conda/lib/python3.10/site-packages (from aiohttp->gradio) (22.2.0)\n",
            "Requirement already satisfied: multidict<7.0,>=4.5 in ./.conda/lib/python3.10/site-packages (from aiohttp->gradio) (6.0.4)\n",
            "Requirement already satisfied: frozenlist>=1.1.1 in ./.conda/lib/python3.10/site-packages (from aiohttp->gradio) (1.3.3)\n",
            "Requirement already satisfied: aiosignal>=1.1.2 in ./.conda/lib/python3.10/site-packages (from aiohttp->gradio) (1.3.1)\n",
            "Requirement already satisfied: yarl<2.0,>=1.0 in ./.conda/lib/python3.10/site-packages (from aiohttp->gradio) (1.8.2)\n",
            "Requirement already satisfied: charset-normalizer<4.0,>=2.0 in ./.conda/lib/python3.10/site-packages (from aiohttp->gradio) (3.1.0)\n",
            "Requirement already satisfied: starlette<0.27.0,>=0.26.1 in ./.conda/lib/python3.10/site-packages (from fastapi->gradio) (0.26.1)\n",
            "Requirement already satisfied: httpcore<0.18.0,>=0.15.0 in ./.conda/lib/python3.10/site-packages (from httpx->gradio) (0.17.0)\n",
            "Requirement already satisfied: certifi in ./.conda/lib/python3.10/site-packages (from httpx->gradio) (2022.12.7)\n",
            "Requirement already satisfied: sniffio in ./.conda/lib/python3.10/site-packages (from httpx->gradio) (1.3.0)\n",
            "Requirement already satisfied: idna in ./.conda/lib/python3.10/site-packages (from httpx->gradio) (3.4)\n",
            "Requirement already satisfied: contourpy>=1.0.1 in ./.conda/lib/python3.10/site-packages (from matplotlib->gradio) (1.0.7)\n",
            "Requirement already satisfied: kiwisolver>=1.0.1 in ./.conda/lib/python3.10/site-packages (from matplotlib->gradio) (1.4.4)\n",
            "Requirement already satisfied: cycler>=0.10 in ./.conda/lib/python3.10/site-packages (from matplotlib->gradio) (0.11.0)\n",
            "Requirement already satisfied: pyparsing>=2.3.1 in ./.conda/lib/python3.10/site-packages (from matplotlib->gradio) (3.0.9)\n",
            "Requirement already satisfied: fonttools>=4.22.0 in ./.conda/lib/python3.10/site-packages (from matplotlib->gradio) (4.39.2)\n",
            "Requirement already satisfied: urllib3<1.27,>=1.21.1 in ./.conda/lib/python3.10/site-packages (from requests->gradio) (1.26.15)\n",
            "Requirement already satisfied: h11>=0.8 in ./.conda/lib/python3.10/site-packages (from uvicorn->gradio) (0.14.0)\n",
            "Requirement already satisfied: click>=7.0 in ./.conda/lib/python3.10/site-packages (from uvicorn->gradio) (8.1.3)\n",
            "Requirement already satisfied: anyio<5.0,>=3.0 in ./.conda/lib/python3.10/site-packages (from httpcore<0.18.0,>=0.15.0->httpx->gradio) (3.6.2)\n",
            "Requirement already satisfied: pyrsistent!=0.17.0,!=0.17.1,!=0.17.2,>=0.14.0 in ./.conda/lib/python3.10/site-packages (from jsonschema>=3.0->altair>=4.2.0->gradio) (0.19.3)\n",
            "Requirement already satisfied: uc-micro-py in ./.conda/lib/python3.10/site-packages (from linkify-it-py<3,>=1->markdown-it-py[linkify]>=2.0.0->gradio) (1.0.1)\n",
            "Requirement already satisfied: six>=1.5 in ./.conda/lib/python3.10/site-packages (from python-dateutil>=2.8.2->pandas->gradio) (1.16.0)\n"
          ]
        }
      ],
      "source": [
        "!pip install datasets>=2.6.1\n",
        "!pip install git+https://github.com/huggingface/transformers\n",
        "!pip install librosa\n",
        "!pip install evaluate>=0.30\n",
        "!pip install jiwer\n",
        "!pip install gradio"
      ]
    },
    {
      "cell_type": "markdown",
      "id": "1f60d173-8de1-4ed7-bc9a-d281cf237203",
      "metadata": {
        "id": "1f60d173-8de1-4ed7-bc9a-d281cf237203"
      },
      "source": [
        "We strongly advise you to upload model checkpoints directly the [Hugging Face Hub](https://huggingface.co/) \n",
        "whilst training. The Hub provides:\n",
        "- Integrated version control: you can be sure that no model checkpoint is lost during training.\n",
        "- Tensorboard logs: track important metrics over the course of training.\n",
        "- Model cards: document what a model does and its intended use cases.\n",
        "- Community: an easy way to share and collaborate with the community!\n",
        "\n",
        "Linking the notebook to the Hub is straightforward - it simply requires entering your \n",
        "Hub authentication token when prompted. Find your Hub authentication token [here](https://huggingface.co/settings/tokens):"
      ]
    },
    {
      "cell_type": "code",
      "execution_count": 3,
      "id": "618826ad",
      "metadata": {},
      "outputs": [
        {
          "name": "stdout",
          "output_type": "stream",
          "text": [
            "Requirement already satisfied: ipywidgets in ./.conda/lib/python3.10/site-packages (8.0.6)\n",
            "Requirement already satisfied: widgetsnbextension~=4.0.7 in ./.conda/lib/python3.10/site-packages (from ipywidgets) (4.0.7)\n",
            "Requirement already satisfied: ipykernel>=4.5.1 in ./.conda/lib/python3.10/site-packages (from ipywidgets) (6.22.0)\n",
            "Requirement already satisfied: ipython>=6.1.0 in ./.conda/lib/python3.10/site-packages (from ipywidgets) (8.11.0)\n",
            "Requirement already satisfied: jupyterlab-widgets~=3.0.7 in ./.conda/lib/python3.10/site-packages (from ipywidgets) (3.0.7)\n",
            "Requirement already satisfied: traitlets>=4.3.1 in ./.conda/lib/python3.10/site-packages (from ipywidgets) (5.9.0)\n",
            "Requirement already satisfied: matplotlib-inline>=0.1 in ./.conda/lib/python3.10/site-packages (from ipykernel>=4.5.1->ipywidgets) (0.1.6)\n",
            "Requirement already satisfied: appnope in ./.conda/lib/python3.10/site-packages (from ipykernel>=4.5.1->ipywidgets) (0.1.3)\n",
            "Requirement already satisfied: psutil in ./.conda/lib/python3.10/site-packages (from ipykernel>=4.5.1->ipywidgets) (5.9.4)\n",
            "Requirement already satisfied: comm>=0.1.1 in ./.conda/lib/python3.10/site-packages (from ipykernel>=4.5.1->ipywidgets) (0.1.3)\n",
            "Requirement already satisfied: tornado>=6.1 in ./.conda/lib/python3.10/site-packages (from ipykernel>=4.5.1->ipywidgets) (6.2)\n",
            "Requirement already satisfied: nest-asyncio in ./.conda/lib/python3.10/site-packages (from ipykernel>=4.5.1->ipywidgets) (1.5.6)\n",
            "Requirement already satisfied: packaging in ./.conda/lib/python3.10/site-packages (from ipykernel>=4.5.1->ipywidgets) (23.0)\n",
            "Requirement already satisfied: jupyter-client>=6.1.12 in ./.conda/lib/python3.10/site-packages (from ipykernel>=4.5.1->ipywidgets) (8.1.0)\n",
            "Requirement already satisfied: pyzmq>=20 in ./.conda/lib/python3.10/site-packages (from ipykernel>=4.5.1->ipywidgets) (25.0.2)\n",
            "Requirement already satisfied: jupyter-core!=5.0.*,>=4.12 in ./.conda/lib/python3.10/site-packages (from ipykernel>=4.5.1->ipywidgets) (5.3.0)\n",
            "Requirement already satisfied: debugpy>=1.6.5 in ./.conda/lib/python3.10/site-packages (from ipykernel>=4.5.1->ipywidgets) (1.6.6)\n",
            "Requirement already satisfied: jedi>=0.16 in ./.conda/lib/python3.10/site-packages (from ipython>=6.1.0->ipywidgets) (0.18.2)\n",
            "Requirement already satisfied: pexpect>4.3 in ./.conda/lib/python3.10/site-packages (from ipython>=6.1.0->ipywidgets) (4.8.0)\n",
            "Requirement already satisfied: stack-data in ./.conda/lib/python3.10/site-packages (from ipython>=6.1.0->ipywidgets) (0.6.2)\n",
            "Requirement already satisfied: pickleshare in ./.conda/lib/python3.10/site-packages (from ipython>=6.1.0->ipywidgets) (0.7.5)\n",
            "Requirement already satisfied: pygments>=2.4.0 in ./.conda/lib/python3.10/site-packages (from ipython>=6.1.0->ipywidgets) (2.14.0)\n",
            "Requirement already satisfied: decorator in ./.conda/lib/python3.10/site-packages (from ipython>=6.1.0->ipywidgets) (5.1.1)\n",
            "Requirement already satisfied: prompt-toolkit!=3.0.37,<3.1.0,>=3.0.30 in ./.conda/lib/python3.10/site-packages (from ipython>=6.1.0->ipywidgets) (3.0.38)\n",
            "Requirement already satisfied: backcall in ./.conda/lib/python3.10/site-packages (from ipython>=6.1.0->ipywidgets) (0.2.0)\n",
            "Requirement already satisfied: parso<0.9.0,>=0.8.0 in ./.conda/lib/python3.10/site-packages (from jedi>=0.16->ipython>=6.1.0->ipywidgets) (0.8.3)\n",
            "Requirement already satisfied: python-dateutil>=2.8.2 in ./.conda/lib/python3.10/site-packages (from jupyter-client>=6.1.12->ipykernel>=4.5.1->ipywidgets) (2.8.2)\n",
            "Requirement already satisfied: platformdirs>=2.5 in ./.conda/lib/python3.10/site-packages (from jupyter-core!=5.0.*,>=4.12->ipykernel>=4.5.1->ipywidgets) (3.1.1)\n",
            "Requirement already satisfied: ptyprocess>=0.5 in ./.conda/lib/python3.10/site-packages (from pexpect>4.3->ipython>=6.1.0->ipywidgets) (0.7.0)\n",
            "Requirement already satisfied: wcwidth in ./.conda/lib/python3.10/site-packages (from prompt-toolkit!=3.0.37,<3.1.0,>=3.0.30->ipython>=6.1.0->ipywidgets) (0.2.6)\n",
            "Requirement already satisfied: pure-eval in ./.conda/lib/python3.10/site-packages (from stack-data->ipython>=6.1.0->ipywidgets) (0.2.2)\n",
            "Requirement already satisfied: asttokens>=2.1.0 in ./.conda/lib/python3.10/site-packages (from stack-data->ipython>=6.1.0->ipywidgets) (2.2.1)\n",
            "Requirement already satisfied: executing>=1.2.0 in ./.conda/lib/python3.10/site-packages (from stack-data->ipython>=6.1.0->ipywidgets) (1.2.0)\n",
            "Requirement already satisfied: six in ./.conda/lib/python3.10/site-packages (from asttokens>=2.1.0->stack-data->ipython>=6.1.0->ipywidgets) (1.16.0)\n"
          ]
        }
      ],
      "source": [
        "!pip install ipywidgets"
      ]
    },
    {
      "cell_type": "code",
      "execution_count": 4,
      "id": "b045a39e-2a3e-4153-bdb5-281500bcd348",
      "metadata": {
        "colab": {
          "base_uri": "https://localhost:8080/",
          "height": 359,
          "referenced_widgets": [
            "4416bbd89d094df2b201f8ee7079300c",
            "7df9cd5bf4be4325a6d42eaa1315b8f6",
            "9d503a7ce9254390bd6de44d24d75ca7",
            "551b9cd9705549678165c60ed62e4122",
            "0d01a11f801348a1b3f05ef243247e4c",
            "0e401f0f52074320bd79624226e2017d",
            "1b25324510394f6d9f981001c4111696",
            "6fee914cb24f4bf8b0965207e966872d",
            "94696db84f5a49078553ef9b29c48413",
            "7a786f43c3c445ebb7161abdf694742a",
            "4489c7989c7441ddbbfdea4cce03ffb6",
            "ccc383532d484873865fd00d3efa8c13",
            "adeeaccd453447689adfa769bb82172f",
            "d11a897e8d7c42a7b24d18ef008d1341",
            "30dd622b2f8a4906af170e18f9af2fe0",
            "401418187fb54b11b9b2175cfeda4849",
            "ed375721fd704353b421d0cc4c3a2802"
          ]
        },
        "id": "b045a39e-2a3e-4153-bdb5-281500bcd348",
        "outputId": "33097367-7d28-457e-d418-991e6f97dc43"
      },
      "outputs": [
        {
          "data": {
            "application/vnd.jupyter.widget-view+json": {
              "model_id": "fa6624ccd3b84489aa14a3f94142e18d",
              "version_major": 2,
              "version_minor": 0
            },
            "text/plain": [
              "VBox(children=(HTML(value='<center> <img\\nsrc=https://huggingface.co/front/assets/huggingface_logo-noborder.sv…"
            ]
          },
          "metadata": {},
          "output_type": "display_data"
        }
      ],
      "source": [
        "from huggingface_hub import notebook_login\n",
        "\n",
        "notebook_login()"
      ]
    },
    {
      "cell_type": "markdown",
      "id": "b219c9dd-39b6-4a95-b2a1-3f547a1e7bc0",
      "metadata": {
        "id": "b219c9dd-39b6-4a95-b2a1-3f547a1e7bc0"
      },
      "source": [
        "## Load Dataset"
      ]
    },
    {
      "cell_type": "markdown",
      "id": "674429c5-0ab4-4adf-975b-621bb69eca38",
      "metadata": {
        "id": "674429c5-0ab4-4adf-975b-621bb69eca38"
      },
      "source": [
        "Using 🤗 Datasets, downloading and preparing data is extremely simple. \n",
        "We can download and prepare the Common Voice splits in just one line of code. \n",
        "\n",
        "First, ensure you have accepted the terms of use on the Hugging Face Hub: [mozilla-foundation/common_voice_11_0](https://huggingface.co/datasets/mozilla-foundation/common_voice_11_0). Once you have accepted the terms, you will have full access to the dataset and be able to download the data locally.\n",
        "\n",
        "Since Hindi is very low-resource, we'll combine the `train` and `validation` \n",
        "splits to give approximately 8 hours of training data. We'll use the 4 hours \n",
        "of `test` data as our held-out test set:"
      ]
    },
    {
      "cell_type": "code",
      "execution_count": 5,
      "id": "54qs6FHdBpfZ",
      "metadata": {
        "id": "54qs6FHdBpfZ"
      },
      "outputs": [
        {
          "name": "stdout",
          "output_type": "stream",
          "text": [
            "mkdir: ./data: File exists\n"
          ]
        }
      ],
      "source": [
        "!mkdir ./data"
      ]
    },
    {
      "cell_type": "code",
      "execution_count": 20,
      "id": "SF8JopLf8ZFC",
      "metadata": {
        "id": "SF8JopLf8ZFC"
      },
      "outputs": [],
      "source": [
        "import torchaudio\n",
        "\n",
        "data_train = torchaudio.datasets.LIBRITTS(root=\"data\", url=\"train-clean-100\", download=True)\n",
        "data_test = torchaudio.datasets.LIBRITTS(root=\"data\", url=\"test-clean\", download=True)"
      ]
    },
    {
      "cell_type": "code",
      "execution_count": 21,
      "id": "WvMVmxelBmIB",
      "metadata": {
        "colab": {
          "base_uri": "https://localhost:8080/"
        },
        "id": "WvMVmxelBmIB",
        "outputId": "80ae6a73-a5c4-490d-846e-d8e36ced91e2"
      },
      "outputs": [
        {
          "name": "stdout",
          "output_type": "stream",
          "text": [
            "0/33236 (0%)\n",
            "1000/33236 (3%)\n",
            "2000/33236 (6%)\n",
            "3000/33236 (9%)\n",
            "4000/33236 (12%)\n",
            "5000/33236 (15%)\n",
            "6000/33236 (18%)\n",
            "7000/33236 (21%)\n",
            "8000/33236 (24%)\n",
            "9000/33236 (27%)\n",
            "10000/33236 (30%)\n",
            "11000/33236 (33%)\n",
            "12000/33236 (36%)\n",
            "13000/33236 (39%)\n",
            "14000/33236 (42%)\n",
            "15000/33236 (45%)\n",
            "16000/33236 (48%)\n",
            "17000/33236 (51%)\n",
            "18000/33236 (54%)\n",
            "19000/33236 (57%)\n",
            "20000/33236 (60%)\n",
            "21000/33236 (63%)\n",
            "22000/33236 (66%)\n",
            "23000/33236 (69%)\n",
            "24000/33236 (72%)\n",
            "25000/33236 (75%)\n",
            "26000/33236 (78%)\n",
            "27000/33236 (81%)\n",
            "28000/33236 (84%)\n",
            "29000/33236 (87%)\n",
            "30000/33236 (90%)\n",
            "31000/33236 (93%)\n",
            "32000/33236 (96%)\n",
            "33000/33236 (99%)\n"
          ]
        }
      ],
      "source": [
        "filenames_train = []\n",
        "sentences_train = []\n",
        "for i, item in enumerate(data_train):\n",
        "  waveform, sample_rate, original_text, normalized_text, speaker_id, chapter_id, utterance_id = item\n",
        "  filename = f\"data/LibriTTS/train-clean-100/{speaker_id}/{chapter_id}/{utterance_id}.wav\"\n",
        "  filenames_train.append(filename)\n",
        "  sentences_train.append(normalized_text)\n",
        "\n",
        "  if i % 1000 == 0:\n",
        "    print(f\"{i}/{len(data_train)} ({round(i/len(data_train) * 100)}%)\")"
      ]
    },
    {
      "cell_type": "code",
      "execution_count": 22,
      "id": "LLhTShBgESfV",
      "metadata": {
        "colab": {
          "base_uri": "https://localhost:8080/"
        },
        "id": "LLhTShBgESfV",
        "outputId": "084be5be-cefa-4657-89d2-1e62327e3979"
      },
      "outputs": [
        {
          "name": "stdout",
          "output_type": "stream",
          "text": [
            "0/4837 (0%)\n",
            "1000/4837 (21%)\n",
            "2000/4837 (41%)\n",
            "3000/4837 (62%)\n",
            "4000/4837 (83%)\n"
          ]
        }
      ],
      "source": [
        "filenames_test = []\n",
        "sentences_test = []\n",
        "for i, item in enumerate(data_test):\n",
        "  waveform, sample_rate, original_text, normalized_text, speaker_id, chapter_id, utterance_id = item\n",
        "  filename = f\"data/LibriTTS/test-clean/{speaker_id}/{chapter_id}/{utterance_id}.wav\"\n",
        "  filenames_test.append(filename)\n",
        "  sentences_test.append(normalized_text)\n",
        "\n",
        "  if i % 1000 == 0:\n",
        "    print(f\"{i}/{len(data_test)} ({round(i/len(data_test) * 100)}%)\")"
      ]
    },
    {
      "cell_type": "code",
      "execution_count": 23,
      "id": "HQqpMnWYD3l-",
      "metadata": {
        "colab": {
          "base_uri": "https://localhost:8080/"
        },
        "id": "HQqpMnWYD3l-",
        "outputId": "9186324b-1586-4c9c-c887-8833e441fae7"
      },
      "outputs": [
        {
          "name": "stdout",
          "output_type": "stream",
          "text": [
            "33236 ['data/LibriTTS/train-clean-100/1034/121119/1034_121119_000001_000001.wav', 'data/LibriTTS/train-clean-100/1034/121119/1034_121119_000002_000001.wav', 'data/LibriTTS/train-clean-100/1034/121119/1034_121119_000010_000004.wav', 'data/LibriTTS/train-clean-100/1034/121119/1034_121119_000010_000006.wav', 'data/LibriTTS/train-clean-100/1034/121119/1034_121119_000012_000000.wav', 'data/LibriTTS/train-clean-100/1034/121119/1034_121119_000014_000000.wav', 'data/LibriTTS/train-clean-100/1034/121119/1034_121119_000018_000000.wav', 'data/LibriTTS/train-clean-100/1034/121119/1034_121119_000019_000001.wav', 'data/LibriTTS/train-clean-100/1034/121119/1034_121119_000021_000001.wav', 'data/LibriTTS/train-clean-100/1034/121119/1034_121119_000022_000000.wav']\n",
            "33236 ['The Law.', 'We will leave the banker contemplating the enormous magnitude of his debt before the phantom of bankruptcy, and follow the baroness, who after being momentarily crushed under the weight of the blow which had struck her, had gone to seek her usual adviser, Lucien Debray.', \"Villefort's conduct, therefore, upon reflection, appeared to the baroness as if shaped for their mutual advantage.\", 'She would invoke the past, recall old recollections; she would supplicate him by the remembrance of guilty, yet happy days.', '\"Do you intend opening the door?\" said the baroness.', '\"Who am I? You know me well enough.\"', '\"Oh, this is too much!\"', 'Your name?\"', 'And now, what do you want?\"', '\"Oh, how extraordinary!']\n",
            "4837 ['data/LibriTTS/test-clean/1089/134686/1089_134686_000001_000001.wav', 'data/LibriTTS/test-clean/1089/134686/1089_134686_000002_000000.wav', 'data/LibriTTS/test-clean/1089/134686/1089_134686_000002_000001.wav', 'data/LibriTTS/test-clean/1089/134686/1089_134686_000002_000002.wav', 'data/LibriTTS/test-clean/1089/134686/1089_134686_000002_000003.wav', 'data/LibriTTS/test-clean/1089/134686/1089_134686_000002_000004.wav', 'data/LibriTTS/test-clean/1089/134686/1089_134686_000003_000000.wav', 'data/LibriTTS/test-clean/1089/134686/1089_134686_000004_000000.wav', 'data/LibriTTS/test-clean/1089/134686/1089_134686_000005_000000.wav', 'data/LibriTTS/test-clean/1089/134686/1089_134686_000005_000001.wav']\n",
            "4837 ['He hoped there would be stew for dinner, turnips and carrots and bruised potatoes and fat mutton pieces to be ladled out in thick peppered flour fattened sauce. Stuff it into you, his belly counselled him.', 'It would be a gloomy secret night.', 'After early nightfall the yellow lamps would light up, here and there, the squalid quarter of the brothels.', 'He would follow a devious course up and down the streets, circling always nearer and nearer in a tremor of fear and joy, until his feet led him suddenly round a dark corner.', 'The whores would be just coming out of their houses making ready for the night, yawning lazily after their sleep and settling the hairpins in their clusters of hair. He would pass by them calmly waiting for a sudden movement of his own will or a sudden call to his sin loving soul from their soft perfumed flesh.', 'Yet as he prowled in quest of that call, his senses, stultified only by his desire, would note keenly all that wounded or shamed them; his eyes, a ring of porter froth on a clothless table or a photograph of two soldiers standing to attention or a gaudy playbill; his ears, the drawling jargon of greeting:', '--Hello, Bertie, any good in your mind?', '--Is that you, pigeon?', '--Number ten.', 'Fresh Nelly is waiting on you.']\n"
          ]
        }
      ],
      "source": [
        "print(len(filenames_train), filenames_train[:10])\n",
        "print(len(sentences_train), sentences_train[:10])\n",
        "\n",
        "print(len(filenames_test), filenames_test[:10])\n",
        "print(len(sentences_test), sentences_test[:10])"
      ]
    },
    {
      "cell_type": "code",
      "execution_count": 24,
      "id": "0a1516d3",
      "metadata": {},
      "outputs": [
        {
          "name": "stdout",
          "output_type": "stream",
          "text": [
            "Requirement already satisfied: datasets in ./.conda/lib/python3.10/site-packages (2.11.0)\n",
            "Requirement already satisfied: requests>=2.19.0 in ./.conda/lib/python3.10/site-packages (from datasets) (2.28.2)\n",
            "Requirement already satisfied: tqdm>=4.62.1 in ./.conda/lib/python3.10/site-packages (from datasets) (4.65.0)\n",
            "Requirement already satisfied: aiohttp in ./.conda/lib/python3.10/site-packages (from datasets) (3.8.4)\n",
            "Requirement already satisfied: responses<0.19 in ./.conda/lib/python3.10/site-packages (from datasets) (0.18.0)\n",
            "Requirement already satisfied: dill<0.3.7,>=0.3.0 in ./.conda/lib/python3.10/site-packages (from datasets) (0.3.6)\n",
            "Requirement already satisfied: numpy>=1.17 in ./.conda/lib/python3.10/site-packages (from datasets) (1.23.5)\n",
            "Requirement already satisfied: pandas in ./.conda/lib/python3.10/site-packages (from datasets) (2.0.0)\n",
            "Requirement already satisfied: xxhash in ./.conda/lib/python3.10/site-packages (from datasets) (3.2.0)\n",
            "Requirement already satisfied: multiprocess in ./.conda/lib/python3.10/site-packages (from datasets) (0.70.14)\n",
            "Requirement already satisfied: fsspec[http]>=2021.11.1 in ./.conda/lib/python3.10/site-packages (from datasets) (2023.4.0)\n",
            "Requirement already satisfied: pyyaml>=5.1 in ./.conda/lib/python3.10/site-packages (from datasets) (6.0)\n",
            "Requirement already satisfied: packaging in ./.conda/lib/python3.10/site-packages (from datasets) (23.0)\n",
            "Requirement already satisfied: pyarrow>=8.0.0 in ./.conda/lib/python3.10/site-packages (from datasets) (11.0.0)\n",
            "Requirement already satisfied: huggingface-hub<1.0.0,>=0.11.0 in ./.conda/lib/python3.10/site-packages (from datasets) (0.13.4)\n",
            "Requirement already satisfied: async-timeout<5.0,>=4.0.0a3 in ./.conda/lib/python3.10/site-packages (from aiohttp->datasets) (4.0.2)\n",
            "Requirement already satisfied: multidict<7.0,>=4.5 in ./.conda/lib/python3.10/site-packages (from aiohttp->datasets) (6.0.4)\n",
            "Requirement already satisfied: attrs>=17.3.0 in ./.conda/lib/python3.10/site-packages (from aiohttp->datasets) (22.2.0)\n",
            "Requirement already satisfied: frozenlist>=1.1.1 in ./.conda/lib/python3.10/site-packages (from aiohttp->datasets) (1.3.3)\n",
            "Requirement already satisfied: yarl<2.0,>=1.0 in ./.conda/lib/python3.10/site-packages (from aiohttp->datasets) (1.8.2)\n",
            "Requirement already satisfied: aiosignal>=1.1.2 in ./.conda/lib/python3.10/site-packages (from aiohttp->datasets) (1.3.1)\n",
            "Requirement already satisfied: charset-normalizer<4.0,>=2.0 in ./.conda/lib/python3.10/site-packages (from aiohttp->datasets) (3.1.0)\n",
            "Requirement already satisfied: filelock in ./.conda/lib/python3.10/site-packages (from huggingface-hub<1.0.0,>=0.11.0->datasets) (3.10.1)\n",
            "Requirement already satisfied: typing-extensions>=3.7.4.3 in ./.conda/lib/python3.10/site-packages (from huggingface-hub<1.0.0,>=0.11.0->datasets) (4.5.0)\n",
            "Requirement already satisfied: idna<4,>=2.5 in ./.conda/lib/python3.10/site-packages (from requests>=2.19.0->datasets) (3.4)\n",
            "Requirement already satisfied: certifi>=2017.4.17 in ./.conda/lib/python3.10/site-packages (from requests>=2.19.0->datasets) (2022.12.7)\n",
            "Requirement already satisfied: urllib3<1.27,>=1.21.1 in ./.conda/lib/python3.10/site-packages (from requests>=2.19.0->datasets) (1.26.15)\n",
            "Requirement already satisfied: pytz>=2020.1 in ./.conda/lib/python3.10/site-packages (from pandas->datasets) (2023.3)\n",
            "Requirement already satisfied: python-dateutil>=2.8.2 in ./.conda/lib/python3.10/site-packages (from pandas->datasets) (2.8.2)\n",
            "Requirement already satisfied: tzdata>=2022.1 in ./.conda/lib/python3.10/site-packages (from pandas->datasets) (2023.3)\n",
            "Requirement already satisfied: six>=1.5 in ./.conda/lib/python3.10/site-packages (from python-dateutil>=2.8.2->pandas->datasets) (1.16.0)\n",
            "Note: you may need to restart the kernel to use updated packages.\n"
          ]
        }
      ],
      "source": [
        "%pip install datasets"
      ]
    },
    {
      "cell_type": "code",
      "execution_count": 34,
      "id": "a2787582-554f-44ce-9f38-4180a5ed6b44",
      "metadata": {
        "colab": {
          "base_uri": "https://localhost:8080/"
        },
        "id": "a2787582-554f-44ce-9f38-4180a5ed6b44",
        "outputId": "e595a4f7-ccd2-41df-83c1-800f48a8411f"
      },
      "outputs": [
        {
          "name": "stdout",
          "output_type": "stream",
          "text": [
            "DatasetDict({\n",
            "    train: Dataset({\n",
            "        features: ['audio', 'sentence'],\n",
            "        num_rows: 33236\n",
            "    })\n",
            "    test: Dataset({\n",
            "        features: ['audio', 'sentence'],\n",
            "        num_rows: 4837\n",
            "    })\n",
            "})\n"
          ]
        }
      ],
      "source": [
        "from datasets import Dataset, DatasetDict\n",
        "\n",
        "libritts = DatasetDict()\n",
        "\n",
        "libritts[\"train\"] = Dataset.from_dict({\n",
        "  \"audio\": filenames_train,\n",
        "  \"sentence\": sentences_train\n",
        "})\n",
        "\n",
        "libritts[\"test\"] = Dataset.from_dict({\n",
        "  \"audio\": filenames_test,\n",
        "  \"sentence\": sentences_test\n",
        "})\n",
        "\n",
        "print(libritts)"
      ]
    },
    {
      "cell_type": "markdown",
      "id": "d5c7c3d6-7197-41e7-a088-49b753c1681f",
      "metadata": {
        "id": "d5c7c3d6-7197-41e7-a088-49b753c1681f"
      },
      "source": [
        "Most ASR datasets only provide input audio samples (`audio`) and the \n",
        "corresponding transcribed text (`sentence`). Common Voice contains additional \n",
        "metadata information, such as `accent` and `locale`, which we can disregard for ASR.\n",
        "Keeping the notebook as general as possible, we only consider the input audio and\n",
        "transcribed text for fine-tuning, discarding the additional metadata information:"
      ]
    },
    {
      "cell_type": "markdown",
      "id": "2d63b2d2-f68a-4d74-b7f1-5127f6d16605",
      "metadata": {
        "id": "2d63b2d2-f68a-4d74-b7f1-5127f6d16605"
      },
      "source": [
        "## Prepare Feature Extractor, Tokenizer and Data"
      ]
    },
    {
      "cell_type": "markdown",
      "id": "601c3099-1026-439e-93e2-5635b3ba5a73",
      "metadata": {
        "id": "601c3099-1026-439e-93e2-5635b3ba5a73"
      },
      "source": [
        "The ASR pipeline can be de-composed into three stages: \n",
        "1) A feature extractor which pre-processes the raw audio-inputs\n",
        "2) The model which performs the sequence-to-sequence mapping \n",
        "3) A tokenizer which post-processes the model outputs to text format\n",
        "\n",
        "In 🤗 Transformers, the Whisper model has an associated feature extractor and tokenizer, \n",
        "called [WhisperFeatureExtractor](https://huggingface.co/docs/transformers/main/model_doc/whisper#transformers.WhisperFeatureExtractor)\n",
        "and [WhisperTokenizer](https://huggingface.co/docs/transformers/main/model_doc/whisper#transformers.WhisperTokenizer) \n",
        "respectively.\n",
        "\n",
        "We'll go through details for setting-up the feature extractor and tokenizer one-by-one!"
      ]
    },
    {
      "cell_type": "markdown",
      "id": "560332eb-3558-41a1-b500-e83a9f695f84",
      "metadata": {
        "id": "560332eb-3558-41a1-b500-e83a9f695f84"
      },
      "source": [
        "### Load WhisperFeatureExtractor"
      ]
    },
    {
      "cell_type": "markdown",
      "id": "32ec8068-0bd7-412d-b662-0edb9d1e7365",
      "metadata": {
        "id": "32ec8068-0bd7-412d-b662-0edb9d1e7365"
      },
      "source": [
        "The Whisper feature extractor performs two operations:\n",
        "1. Pads / truncates the audio inputs to 30s: any audio inputs shorter than 30s are padded to 30s with silence (zeros), and those longer that 30s are truncated to 30s\n",
        "2. Converts the audio inputs to _log-Mel spectrogram_ input features, a visual representation of the audio and the form of the input expected by the Whisper model"
      ]
    },
    {
      "cell_type": "markdown",
      "id": "589d9ec1-d12b-4b64-93f7-04c63997da19",
      "metadata": {
        "id": "589d9ec1-d12b-4b64-93f7-04c63997da19"
      },
      "source": [
        "<figure>\n",
        "<img src=\"https://raw.githubusercontent.com/sanchit-gandhi/notebooks/main/spectrogram.jpg\" alt=\"Trulli\" style=\"width:100%\">\n",
        "<figcaption align = \"center\"><b>Figure 2:</b> Conversion of sampled audio array to log-Mel spectrogram.\n",
        "Left: sampled 1-dimensional audio signal. Right: corresponding log-Mel spectrogram. Figure source:\n",
        "<a href=\"https://ai.googleblog.com/2019/04/specaugment-new-data-augmentation.html\">Google SpecAugment Blog</a>.\n",
        "</figcaption>"
      ]
    },
    {
      "cell_type": "markdown",
      "id": "b2ef54d5-b946-4c1d-9fdc-adc5d01b46aa",
      "metadata": {
        "id": "b2ef54d5-b946-4c1d-9fdc-adc5d01b46aa"
      },
      "source": [
        "We'll load the feature extractor from the pre-trained checkpoint with the default values:"
      ]
    },
    {
      "cell_type": "code",
      "execution_count": 35,
      "id": "bc77d7bb-f9e2-47f5-b663-30f7a4321ce5",
      "metadata": {
        "colab": {
          "base_uri": "https://localhost:8080/",
          "height": 77,
          "referenced_widgets": [
            "ae5f05983a1242fe8f7abc5165e692e5",
            "cd5beff039254443b08731d1a597ac3f",
            "0727261897234090b720fccabf003f2e",
            "4c7c0ae822cc4f82bd5d6db5e0acaea9",
            "6b065c5e15804f7fa08cc18ebf2bb033",
            "c635eb907e15465dbbff39a57a0d248c",
            "27fcddc0a8e64d299ee6ad9d05ebc1b1",
            "ef8a64687c304789a3b86db287f283e9",
            "a13d955a791f474eb6975258a2d704f1",
            "807b794d0b864550b460b1e2b5a12e1f",
            "96fbfbc9693540599ff7eddaf54b32a0"
          ]
        },
        "id": "bc77d7bb-f9e2-47f5-b663-30f7a4321ce5",
        "outputId": "ef892370-7e19-44ad-ef3b-41f5ddb7937b"
      },
      "outputs": [],
      "source": [
        "from transformers import WhisperFeatureExtractor\n",
        "\n",
        "feature_extractor = WhisperFeatureExtractor.from_pretrained(\"openai/whisper-tiny\")"
      ]
    },
    {
      "cell_type": "markdown",
      "id": "93748af7-b917-4ecf-a0c8-7d89077ff9cb",
      "metadata": {
        "id": "93748af7-b917-4ecf-a0c8-7d89077ff9cb"
      },
      "source": [
        "### Load WhisperTokenizer"
      ]
    },
    {
      "cell_type": "markdown",
      "id": "2bc82609-a9fb-447a-a2af-99597c864029",
      "metadata": {
        "id": "2bc82609-a9fb-447a-a2af-99597c864029"
      },
      "source": [
        "The Whisper model outputs a sequence of _token ids_. The tokenizer maps each of these token ids to their corresponding text string. For Hindi, we can load the pre-trained tokenizer and use it for fine-tuning without any further modifications. We simply have to \n",
        "specify the target language and the task. These arguments inform the \n",
        "tokenizer to prefix the language and task tokens to the start of encoded \n",
        "label sequences:"
      ]
    },
    {
      "cell_type": "code",
      "execution_count": 36,
      "id": "c7b07f9b-ae0e-4f89-98f0-0c50d432eab6",
      "metadata": {
        "id": "c7b07f9b-ae0e-4f89-98f0-0c50d432eab6"
      },
      "outputs": [],
      "source": [
        "from transformers import WhisperTokenizer\n",
        "\n",
        "tokenizer = WhisperTokenizer.from_pretrained(\"openai/whisper-tiny\", language=\"English\", task=\"transcribe\")"
      ]
    },
    {
      "cell_type": "markdown",
      "id": "d2ef23f3-f4a8-483a-a2dc-080a7496cb1b",
      "metadata": {
        "id": "d2ef23f3-f4a8-483a-a2dc-080a7496cb1b"
      },
      "source": [
        "### Combine To Create A WhisperProcessor"
      ]
    },
    {
      "cell_type": "markdown",
      "id": "5ff67654-5a29-4bb8-a69d-0228946c6f8d",
      "metadata": {
        "id": "5ff67654-5a29-4bb8-a69d-0228946c6f8d"
      },
      "source": [
        "To simplify using the feature extractor and tokenizer, we can _wrap_ \n",
        "both into a single `WhisperProcessor` class. This processor object \n",
        "inherits from the `WhisperFeatureExtractor` and `WhisperProcessor`, \n",
        "and can be used on the audio inputs and model predictions as required. \n",
        "In doing so, we only need to keep track of two objects during training: \n",
        "the `processor` and the `model`:"
      ]
    },
    {
      "cell_type": "code",
      "execution_count": 37,
      "id": "77d9f0c5-8607-4642-a8ac-c3ab2e223ea6",
      "metadata": {
        "id": "77d9f0c5-8607-4642-a8ac-c3ab2e223ea6"
      },
      "outputs": [],
      "source": [
        "from transformers import WhisperProcessor\n",
        "\n",
        "processor = WhisperProcessor.from_pretrained(\"openai/whisper-tiny\", language=\"English\", task=\"transcribe\")"
      ]
    },
    {
      "cell_type": "markdown",
      "id": "381acd09-0b0f-4d04-9eb3-f028ac0e5f2c",
      "metadata": {
        "id": "381acd09-0b0f-4d04-9eb3-f028ac0e5f2c"
      },
      "source": [
        "### Prepare Data"
      ]
    },
    {
      "cell_type": "markdown",
      "id": "9649bf01-2e8a-45e5-8fca-441c13637b8f",
      "metadata": {
        "id": "9649bf01-2e8a-45e5-8fca-441c13637b8f"
      },
      "source": [
        "Let's print the first example of the Common Voice dataset to see \n",
        "what form the data is in:"
      ]
    },
    {
      "cell_type": "code",
      "execution_count": 38,
      "id": "6e6b0ec5-0c94-4e2c-ae24-c791be1b2255",
      "metadata": {
        "colab": {
          "base_uri": "https://localhost:8080/"
        },
        "id": "6e6b0ec5-0c94-4e2c-ae24-c791be1b2255",
        "outputId": "78cb0ee6-30e7-42ae-f5d3-1e57e8dab2fe"
      },
      "outputs": [
        {
          "name": "stdout",
          "output_type": "stream",
          "text": [
            "{'audio': 'data/LibriTTS/train-clean-100/1034/121119/1034_121119_000001_000001.wav', 'sentence': 'The Law.'}\n"
          ]
        }
      ],
      "source": [
        "print(libritts[\"train\"][0])"
      ]
    },
    {
      "cell_type": "markdown",
      "id": "5a679f05-063d-41b3-9b58-4fc9c6ccf4fd",
      "metadata": {
        "id": "5a679f05-063d-41b3-9b58-4fc9c6ccf4fd"
      },
      "source": [
        "Since \n",
        "our input audio is sampled at 48kHz, we need to _downsample_ it to \n",
        "16kHz prior to passing it to the Whisper feature extractor, 16kHz being the sampling rate expected by the Whisper model. \n",
        "\n",
        "We'll set the audio inputs to the correct sampling rate using dataset's \n",
        "[`cast_column`](https://huggingface.co/docs/datasets/package_reference/main_classes.html?highlight=cast_column#datasets.DatasetDict.cast_column)\n",
        "method. This operation does not change the audio in-place, \n",
        "but rather signals to `datasets` to resample audio samples _on the fly_ the \n",
        "first time that they are loaded:"
      ]
    },
    {
      "cell_type": "code",
      "execution_count": 39,
      "id": "f12e2e57-156f-417b-8cfb-69221cc198e8",
      "metadata": {
        "id": "f12e2e57-156f-417b-8cfb-69221cc198e8"
      },
      "outputs": [],
      "source": [
        "from datasets import Audio\n",
        "\n",
        "libritts = libritts.cast_column(\"audio\", Audio(sampling_rate=16000))"
      ]
    },
    {
      "cell_type": "markdown",
      "id": "00382a3e-abec-4cdd-a54c-d1aaa3ea4707",
      "metadata": {
        "id": "00382a3e-abec-4cdd-a54c-d1aaa3ea4707"
      },
      "source": [
        "Re-loading the first audio sample in the Common Voice dataset will resample \n",
        "it to the desired sampling rate:"
      ]
    },
    {
      "cell_type": "code",
      "execution_count": 40,
      "id": "87122d71-289a-466a-afcf-fa354b18946b",
      "metadata": {
        "colab": {
          "base_uri": "https://localhost:8080/"
        },
        "id": "87122d71-289a-466a-afcf-fa354b18946b",
        "outputId": "84105707-5af1-4b89-fa85-b7e89c8cec7e"
      },
      "outputs": [
        {
          "name": "stdout",
          "output_type": "stream",
          "text": [
            "{'audio': {'path': 'data/LibriTTS/train-clean-100/1034/121119/1034_121119_000001_000001.wav', 'array': array([-0.03077378, -0.04027659, -0.03913689, ..., -0.02200378,\n",
            "       -0.02108709, -0.02202591]), 'sampling_rate': 16000}, 'sentence': 'The Law.'}\n"
          ]
        }
      ],
      "source": [
        "print(libritts[\"train\"][0])"
      ]
    },
    {
      "cell_type": "markdown",
      "id": "91edc72d-08f8-4f01-899d-74e65ce441fc",
      "metadata": {
        "id": "91edc72d-08f8-4f01-899d-74e65ce441fc"
      },
      "source": [
        "Now we can write a function to prepare our data ready for the model:\n",
        "1. We load and resample the audio data by calling `batch[\"audio\"]`. As explained above, 🤗 Datasets performs any necessary resampling operations on the fly.\n",
        "2. We use the feature extractor to compute the log-Mel spectrogram input features from our 1-dimensional audio array.\n",
        "3. We encode the transcriptions to label ids through the use of the tokenizer."
      ]
    },
    {
      "cell_type": "code",
      "execution_count": 41,
      "id": "6525c478-8962-4394-a1c4-103c54cce170",
      "metadata": {
        "id": "6525c478-8962-4394-a1c4-103c54cce170"
      },
      "outputs": [],
      "source": [
        "def prepare_dataset(batch):\n",
        "    # load and resample audio data from 48 to 16kHz\n",
        "    audio = batch[\"audio\"]\n",
        "\n",
        "    # compute log-Mel input features from input audio array \n",
        "    batch[\"input_features\"] = feature_extractor(audio[\"array\"], sampling_rate=audio[\"sampling_rate\"]).input_features[0]\n",
        "\n",
        "    # encode target text to label ids \n",
        "    batch[\"labels\"] = tokenizer(batch[\"sentence\"]).input_ids\n",
        "    return batch"
      ]
    },
    {
      "cell_type": "markdown",
      "id": "70b319fb-2439-4ef6-a70d-a47bf41c4a13",
      "metadata": {
        "id": "70b319fb-2439-4ef6-a70d-a47bf41c4a13"
      },
      "source": [
        "We can apply the data preparation function to all of our training examples using dataset's `.map` method. The argument `num_proc` specifies how many CPU cores to use. Setting `num_proc` > 1 will enable multiprocessing. If the `.map` method hangs with multiprocessing, set `num_proc=1` and process the dataset sequentially."
      ]
    },
    {
      "cell_type": "code",
      "execution_count": 45,
      "id": "7b73ab39-ffaf-4b9e-86e5-782963c6134b",
      "metadata": {
        "colab": {
          "base_uri": "https://localhost:8080/",
          "height": 49,
          "referenced_widgets": [
            "11e26c2c13d3484a94804ae4cd2dedef",
            "bec048083d5c48e69f6da7265746725e",
            "147a24a4434f4229ad919de402389e3d",
            "9544469398b24ae2b71474ac2bbff8cd",
            "1850494456334e7faa53059192ca24ab",
            "2fab9b2f21de4f4a98d64641b1dff07c",
            "72cce84b5be14f1d84abbd3254b765d2",
            "66c4d92a38ab47f5891ada470e636326",
            "d788aecab6754e5ca288b2b6bf1bb82a",
            "855787541982469dadbd9db9c500c550",
            "532e50f1c079435a83454cb0d1a47470"
          ]
        },
        "id": "7b73ab39-ffaf-4b9e-86e5-782963c6134b",
        "outputId": "9f2d1a1c-4b50-4dd0-83fd-73bafd485ff8"
      },
      "outputs": [
        {
          "data": {
            "application/vnd.jupyter.widget-view+json": {
              "model_id": "a0e89de2492f46f59b424be6c81cbbd2",
              "version_major": 2,
              "version_minor": 0
            },
            "text/plain": [
              "Map (num_proc=2):   0%|          | 0/33236 [00:00<?, ? examples/s]"
            ]
          },
          "metadata": {},
          "output_type": "display_data"
        },
        {
          "ename": "OSError",
          "evalue": "[Errno 28] No space left on device",
          "output_type": "error",
          "traceback": [
            "\u001b[0;31m---------------------------------------------------------------------------\u001b[0m",
            "\u001b[0;31mRemoteTraceback\u001b[0m                           Traceback (most recent call last)",
            "\u001b[0;31mRemoteTraceback\u001b[0m: \n\"\"\"\nTraceback (most recent call last):\n  File \"/Users/pulljosh/Code/speech-recognition/.conda/lib/python3.10/site-packages/datasets/arrow_dataset.py\", line 3366, in _map_single\n    writer.write(example)\n  File \"/Users/pulljosh/Code/speech-recognition/.conda/lib/python3.10/site-packages/datasets/arrow_writer.py\", line 488, in write\n    self.write_examples_on_file()\n  File \"/Users/pulljosh/Code/speech-recognition/.conda/lib/python3.10/site-packages/datasets/arrow_writer.py\", line 446, in write_examples_on_file\n    self.write_batch(batch_examples=batch_examples)\n  File \"/Users/pulljosh/Code/speech-recognition/.conda/lib/python3.10/site-packages/datasets/arrow_writer.py\", line 555, in write_batch\n    self.write_table(pa_table, writer_batch_size)\n  File \"/Users/pulljosh/Code/speech-recognition/.conda/lib/python3.10/site-packages/datasets/arrow_writer.py\", line 573, in write_table\n    self.pa_writer.write_table(pa_table, writer_batch_size)\n  File \"pyarrow/ipc.pxi\", line 525, in pyarrow.lib._CRecordBatchWriter.write_table\n  File \"/Users/pulljosh/Code/speech-recognition/.conda/lib/python3.10/site-packages/fsspec/implementations/local.py\", line 354, in write\n    return self.f.write(*args, **kwargs)\nOSError: [Errno 28] No space left on device\n\nDuring handling of the above exception, another exception occurred:\n\nTraceback (most recent call last):\n  File \"/Users/pulljosh/Code/speech-recognition/.conda/lib/python3.10/site-packages/multiprocess/pool.py\", line 125, in worker\n    result = (True, func(*args, **kwds))\n  File \"/Users/pulljosh/Code/speech-recognition/.conda/lib/python3.10/site-packages/datasets/utils/py_utils.py\", line 1353, in _write_generator_to_queue\n    for i, result in enumerate(func(**kwargs)):\n  File \"/Users/pulljosh/Code/speech-recognition/.conda/lib/python3.10/site-packages/datasets/arrow_dataset.py\", line 3409, in _map_single\n    writer.finalize()\n  File \"/Users/pulljosh/Code/speech-recognition/.conda/lib/python3.10/site-packages/datasets/arrow_writer.py\", line 582, in finalize\n    self.write_examples_on_file()\n  File \"/Users/pulljosh/Code/speech-recognition/.conda/lib/python3.10/site-packages/datasets/arrow_writer.py\", line 446, in write_examples_on_file\n    self.write_batch(batch_examples=batch_examples)\n  File \"/Users/pulljosh/Code/speech-recognition/.conda/lib/python3.10/site-packages/datasets/arrow_writer.py\", line 555, in write_batch\n    self.write_table(pa_table, writer_batch_size)\n  File \"/Users/pulljosh/Code/speech-recognition/.conda/lib/python3.10/site-packages/datasets/arrow_writer.py\", line 573, in write_table\n    self.pa_writer.write_table(pa_table, writer_batch_size)\n  File \"pyarrow/ipc.pxi\", line 525, in pyarrow.lib._CRecordBatchWriter.write_table\n  File \"/Users/pulljosh/Code/speech-recognition/.conda/lib/python3.10/site-packages/fsspec/implementations/local.py\", line 354, in write\n    return self.f.write(*args, **kwargs)\nOSError: [Errno 28] No space left on device\n\"\"\"",
            "\nThe above exception was the direct cause of the following exception:\n",
            "\u001b[0;31mOSError\u001b[0m                                   Traceback (most recent call last)",
            "Cell \u001b[0;32mIn[45], line 1\u001b[0m\n\u001b[0;32m----> 1\u001b[0m libritts \u001b[39m=\u001b[39m libritts\u001b[39m.\u001b[39;49mmap(\n\u001b[1;32m      2\u001b[0m   prepare_dataset,\n\u001b[1;32m      3\u001b[0m   remove_columns\u001b[39m=\u001b[39;49mlibritts\u001b[39m.\u001b[39;49mcolumn_names[\u001b[39m\"\u001b[39;49m\u001b[39mtrain\u001b[39;49m\u001b[39m\"\u001b[39;49m],\n\u001b[1;32m      4\u001b[0m   num_proc\u001b[39m=\u001b[39;49m\u001b[39m2\u001b[39;49m,\n\u001b[1;32m      5\u001b[0m   writer_batch_size\u001b[39m=\u001b[39;49m\u001b[39m10\u001b[39;49m,\n\u001b[1;32m      6\u001b[0m   cache_file_names\u001b[39m=\u001b[39;49m{\n\u001b[1;32m      7\u001b[0m     \u001b[39m\"\u001b[39;49m\u001b[39mtrain\u001b[39;49m\u001b[39m\"\u001b[39;49m: \u001b[39m\"\u001b[39;49m\u001b[39mwhisper_processed_libritts_train_cache.arrow\u001b[39;49m\u001b[39m\"\u001b[39;49m,\n\u001b[1;32m      8\u001b[0m     \u001b[39m\"\u001b[39;49m\u001b[39mtest\u001b[39;49m\u001b[39m\"\u001b[39;49m: \u001b[39m\"\u001b[39;49m\u001b[39mwhisper_processed_libritts_test_cache.arrow\u001b[39;49m\u001b[39m\"\u001b[39;49m\n\u001b[1;32m      9\u001b[0m   }\n\u001b[1;32m     10\u001b[0m )\n",
            "File \u001b[0;32m~/Code/speech-recognition/.conda/lib/python3.10/site-packages/datasets/dataset_dict.py:851\u001b[0m, in \u001b[0;36mDatasetDict.map\u001b[0;34m(self, function, with_indices, with_rank, input_columns, batched, batch_size, drop_last_batch, remove_columns, keep_in_memory, load_from_cache_file, cache_file_names, writer_batch_size, features, disable_nullable, fn_kwargs, num_proc, desc)\u001b[0m\n\u001b[1;32m    848\u001b[0m \u001b[39mif\u001b[39;00m cache_file_names \u001b[39mis\u001b[39;00m \u001b[39mNone\u001b[39;00m:\n\u001b[1;32m    849\u001b[0m     cache_file_names \u001b[39m=\u001b[39m {k: \u001b[39mNone\u001b[39;00m \u001b[39mfor\u001b[39;00m k \u001b[39min\u001b[39;00m \u001b[39mself\u001b[39m}\n\u001b[1;32m    850\u001b[0m \u001b[39mreturn\u001b[39;00m DatasetDict(\n\u001b[0;32m--> 851\u001b[0m     {\n\u001b[1;32m    852\u001b[0m         k: dataset\u001b[39m.\u001b[39mmap(\n\u001b[1;32m    853\u001b[0m             function\u001b[39m=\u001b[39mfunction,\n\u001b[1;32m    854\u001b[0m             with_indices\u001b[39m=\u001b[39mwith_indices,\n\u001b[1;32m    855\u001b[0m             with_rank\u001b[39m=\u001b[39mwith_rank,\n\u001b[1;32m    856\u001b[0m             input_columns\u001b[39m=\u001b[39minput_columns,\n\u001b[1;32m    857\u001b[0m             batched\u001b[39m=\u001b[39mbatched,\n\u001b[1;32m    858\u001b[0m             batch_size\u001b[39m=\u001b[39mbatch_size,\n\u001b[1;32m    859\u001b[0m             drop_last_batch\u001b[39m=\u001b[39mdrop_last_batch,\n\u001b[1;32m    860\u001b[0m             remove_columns\u001b[39m=\u001b[39mremove_columns,\n\u001b[1;32m    861\u001b[0m             keep_in_memory\u001b[39m=\u001b[39mkeep_in_memory,\n\u001b[1;32m    862\u001b[0m             load_from_cache_file\u001b[39m=\u001b[39mload_from_cache_file,\n\u001b[1;32m    863\u001b[0m             cache_file_name\u001b[39m=\u001b[39mcache_file_names[k],\n\u001b[1;32m    864\u001b[0m             writer_batch_size\u001b[39m=\u001b[39mwriter_batch_size,\n\u001b[1;32m    865\u001b[0m             features\u001b[39m=\u001b[39mfeatures,\n\u001b[1;32m    866\u001b[0m             disable_nullable\u001b[39m=\u001b[39mdisable_nullable,\n\u001b[1;32m    867\u001b[0m             fn_kwargs\u001b[39m=\u001b[39mfn_kwargs,\n\u001b[1;32m    868\u001b[0m             num_proc\u001b[39m=\u001b[39mnum_proc,\n\u001b[1;32m    869\u001b[0m             desc\u001b[39m=\u001b[39mdesc,\n\u001b[1;32m    870\u001b[0m         )\n\u001b[1;32m    871\u001b[0m         \u001b[39mfor\u001b[39;00m k, dataset \u001b[39min\u001b[39;00m \u001b[39mself\u001b[39m\u001b[39m.\u001b[39mitems()\n\u001b[1;32m    872\u001b[0m     }\n\u001b[1;32m    873\u001b[0m )\n",
            "File \u001b[0;32m~/Code/speech-recognition/.conda/lib/python3.10/site-packages/datasets/dataset_dict.py:852\u001b[0m, in \u001b[0;36m<dictcomp>\u001b[0;34m(.0)\u001b[0m\n\u001b[1;32m    848\u001b[0m \u001b[39mif\u001b[39;00m cache_file_names \u001b[39mis\u001b[39;00m \u001b[39mNone\u001b[39;00m:\n\u001b[1;32m    849\u001b[0m     cache_file_names \u001b[39m=\u001b[39m {k: \u001b[39mNone\u001b[39;00m \u001b[39mfor\u001b[39;00m k \u001b[39min\u001b[39;00m \u001b[39mself\u001b[39m}\n\u001b[1;32m    850\u001b[0m \u001b[39mreturn\u001b[39;00m DatasetDict(\n\u001b[1;32m    851\u001b[0m     {\n\u001b[0;32m--> 852\u001b[0m         k: dataset\u001b[39m.\u001b[39;49mmap(\n\u001b[1;32m    853\u001b[0m             function\u001b[39m=\u001b[39;49mfunction,\n\u001b[1;32m    854\u001b[0m             with_indices\u001b[39m=\u001b[39;49mwith_indices,\n\u001b[1;32m    855\u001b[0m             with_rank\u001b[39m=\u001b[39;49mwith_rank,\n\u001b[1;32m    856\u001b[0m             input_columns\u001b[39m=\u001b[39;49minput_columns,\n\u001b[1;32m    857\u001b[0m             batched\u001b[39m=\u001b[39;49mbatched,\n\u001b[1;32m    858\u001b[0m             batch_size\u001b[39m=\u001b[39;49mbatch_size,\n\u001b[1;32m    859\u001b[0m             drop_last_batch\u001b[39m=\u001b[39;49mdrop_last_batch,\n\u001b[1;32m    860\u001b[0m             remove_columns\u001b[39m=\u001b[39;49mremove_columns,\n\u001b[1;32m    861\u001b[0m             keep_in_memory\u001b[39m=\u001b[39;49mkeep_in_memory,\n\u001b[1;32m    862\u001b[0m             load_from_cache_file\u001b[39m=\u001b[39;49mload_from_cache_file,\n\u001b[1;32m    863\u001b[0m             cache_file_name\u001b[39m=\u001b[39;49mcache_file_names[k],\n\u001b[1;32m    864\u001b[0m             writer_batch_size\u001b[39m=\u001b[39;49mwriter_batch_size,\n\u001b[1;32m    865\u001b[0m             features\u001b[39m=\u001b[39;49mfeatures,\n\u001b[1;32m    866\u001b[0m             disable_nullable\u001b[39m=\u001b[39;49mdisable_nullable,\n\u001b[1;32m    867\u001b[0m             fn_kwargs\u001b[39m=\u001b[39;49mfn_kwargs,\n\u001b[1;32m    868\u001b[0m             num_proc\u001b[39m=\u001b[39;49mnum_proc,\n\u001b[1;32m    869\u001b[0m             desc\u001b[39m=\u001b[39;49mdesc,\n\u001b[1;32m    870\u001b[0m         )\n\u001b[1;32m    871\u001b[0m         \u001b[39mfor\u001b[39;00m k, dataset \u001b[39min\u001b[39;00m \u001b[39mself\u001b[39m\u001b[39m.\u001b[39mitems()\n\u001b[1;32m    872\u001b[0m     }\n\u001b[1;32m    873\u001b[0m )\n",
            "File \u001b[0;32m~/Code/speech-recognition/.conda/lib/python3.10/site-packages/datasets/arrow_dataset.py:563\u001b[0m, in \u001b[0;36mtransmit_tasks.<locals>.wrapper\u001b[0;34m(*args, **kwargs)\u001b[0m\n\u001b[1;32m    561\u001b[0m     \u001b[39mself\u001b[39m: \u001b[39m\"\u001b[39m\u001b[39mDataset\u001b[39m\u001b[39m\"\u001b[39m \u001b[39m=\u001b[39m kwargs\u001b[39m.\u001b[39mpop(\u001b[39m\"\u001b[39m\u001b[39mself\u001b[39m\u001b[39m\"\u001b[39m)\n\u001b[1;32m    562\u001b[0m \u001b[39m# apply actual function\u001b[39;00m\n\u001b[0;32m--> 563\u001b[0m out: Union[\u001b[39m\"\u001b[39m\u001b[39mDataset\u001b[39m\u001b[39m\"\u001b[39m, \u001b[39m\"\u001b[39m\u001b[39mDatasetDict\u001b[39m\u001b[39m\"\u001b[39m] \u001b[39m=\u001b[39m func(\u001b[39mself\u001b[39;49m, \u001b[39m*\u001b[39;49margs, \u001b[39m*\u001b[39;49m\u001b[39m*\u001b[39;49mkwargs)\n\u001b[1;32m    564\u001b[0m datasets: List[\u001b[39m\"\u001b[39m\u001b[39mDataset\u001b[39m\u001b[39m\"\u001b[39m] \u001b[39m=\u001b[39m \u001b[39mlist\u001b[39m(out\u001b[39m.\u001b[39mvalues()) \u001b[39mif\u001b[39;00m \u001b[39misinstance\u001b[39m(out, \u001b[39mdict\u001b[39m) \u001b[39melse\u001b[39;00m [out]\n\u001b[1;32m    565\u001b[0m \u001b[39mfor\u001b[39;00m dataset \u001b[39min\u001b[39;00m datasets:\n\u001b[1;32m    566\u001b[0m     \u001b[39m# Remove task templates if a column mapping of the template is no longer valid\u001b[39;00m\n",
            "File \u001b[0;32m~/Code/speech-recognition/.conda/lib/python3.10/site-packages/datasets/arrow_dataset.py:528\u001b[0m, in \u001b[0;36mtransmit_format.<locals>.wrapper\u001b[0;34m(*args, **kwargs)\u001b[0m\n\u001b[1;32m    521\u001b[0m self_format \u001b[39m=\u001b[39m {\n\u001b[1;32m    522\u001b[0m     \u001b[39m\"\u001b[39m\u001b[39mtype\u001b[39m\u001b[39m\"\u001b[39m: \u001b[39mself\u001b[39m\u001b[39m.\u001b[39m_format_type,\n\u001b[1;32m    523\u001b[0m     \u001b[39m\"\u001b[39m\u001b[39mformat_kwargs\u001b[39m\u001b[39m\"\u001b[39m: \u001b[39mself\u001b[39m\u001b[39m.\u001b[39m_format_kwargs,\n\u001b[1;32m    524\u001b[0m     \u001b[39m\"\u001b[39m\u001b[39mcolumns\u001b[39m\u001b[39m\"\u001b[39m: \u001b[39mself\u001b[39m\u001b[39m.\u001b[39m_format_columns,\n\u001b[1;32m    525\u001b[0m     \u001b[39m\"\u001b[39m\u001b[39moutput_all_columns\u001b[39m\u001b[39m\"\u001b[39m: \u001b[39mself\u001b[39m\u001b[39m.\u001b[39m_output_all_columns,\n\u001b[1;32m    526\u001b[0m }\n\u001b[1;32m    527\u001b[0m \u001b[39m# apply actual function\u001b[39;00m\n\u001b[0;32m--> 528\u001b[0m out: Union[\u001b[39m\"\u001b[39m\u001b[39mDataset\u001b[39m\u001b[39m\"\u001b[39m, \u001b[39m\"\u001b[39m\u001b[39mDatasetDict\u001b[39m\u001b[39m\"\u001b[39m] \u001b[39m=\u001b[39m func(\u001b[39mself\u001b[39;49m, \u001b[39m*\u001b[39;49margs, \u001b[39m*\u001b[39;49m\u001b[39m*\u001b[39;49mkwargs)\n\u001b[1;32m    529\u001b[0m datasets: List[\u001b[39m\"\u001b[39m\u001b[39mDataset\u001b[39m\u001b[39m\"\u001b[39m] \u001b[39m=\u001b[39m \u001b[39mlist\u001b[39m(out\u001b[39m.\u001b[39mvalues()) \u001b[39mif\u001b[39;00m \u001b[39misinstance\u001b[39m(out, \u001b[39mdict\u001b[39m) \u001b[39melse\u001b[39;00m [out]\n\u001b[1;32m    530\u001b[0m \u001b[39m# re-apply format to the output\u001b[39;00m\n",
            "File \u001b[0;32m~/Code/speech-recognition/.conda/lib/python3.10/site-packages/datasets/arrow_dataset.py:3097\u001b[0m, in \u001b[0;36mDataset.map\u001b[0;34m(self, function, with_indices, with_rank, input_columns, batched, batch_size, drop_last_batch, remove_columns, keep_in_memory, load_from_cache_file, cache_file_name, writer_batch_size, features, disable_nullable, fn_kwargs, num_proc, suffix_template, new_fingerprint, desc)\u001b[0m\n\u001b[1;32m   3089\u001b[0m logger\u001b[39m.\u001b[39minfo(\u001b[39mf\u001b[39m\u001b[39m\"\u001b[39m\u001b[39mSpawning \u001b[39m\u001b[39m{\u001b[39;00mnum_proc\u001b[39m}\u001b[39;00m\u001b[39m processes\u001b[39m\u001b[39m\"\u001b[39m)\n\u001b[1;32m   3090\u001b[0m \u001b[39mwith\u001b[39;00m logging\u001b[39m.\u001b[39mtqdm(\n\u001b[1;32m   3091\u001b[0m     disable\u001b[39m=\u001b[39m\u001b[39mnot\u001b[39;00m logging\u001b[39m.\u001b[39mis_progress_bar_enabled(),\n\u001b[1;32m   3092\u001b[0m     unit\u001b[39m=\u001b[39m\u001b[39m\"\u001b[39m\u001b[39m examples\u001b[39m\u001b[39m\"\u001b[39m,\n\u001b[0;32m   (...)\u001b[0m\n\u001b[1;32m   3095\u001b[0m     desc\u001b[39m=\u001b[39m(desc \u001b[39mor\u001b[39;00m \u001b[39m\"\u001b[39m\u001b[39mMap\u001b[39m\u001b[39m\"\u001b[39m) \u001b[39m+\u001b[39m \u001b[39mf\u001b[39m\u001b[39m\"\u001b[39m\u001b[39m (num_proc=\u001b[39m\u001b[39m{\u001b[39;00mnum_proc\u001b[39m}\u001b[39;00m\u001b[39m)\u001b[39m\u001b[39m\"\u001b[39m,\n\u001b[1;32m   3096\u001b[0m ) \u001b[39mas\u001b[39;00m pbar:\n\u001b[0;32m-> 3097\u001b[0m     \u001b[39mfor\u001b[39;00m rank, done, content \u001b[39min\u001b[39;00m iflatmap_unordered(\n\u001b[1;32m   3098\u001b[0m         pool, Dataset\u001b[39m.\u001b[39m_map_single, kwargs_iterable\u001b[39m=\u001b[39mkwargs_per_job\n\u001b[1;32m   3099\u001b[0m     ):\n\u001b[1;32m   3100\u001b[0m         \u001b[39mif\u001b[39;00m done:\n\u001b[1;32m   3101\u001b[0m             shards_done \u001b[39m+\u001b[39m\u001b[39m=\u001b[39m \u001b[39m1\u001b[39m\n",
            "File \u001b[0;32m~/Code/speech-recognition/.conda/lib/python3.10/site-packages/datasets/utils/py_utils.py:1377\u001b[0m, in \u001b[0;36miflatmap_unordered\u001b[0;34m(pool, func, kwargs_iterable)\u001b[0m\n\u001b[1;32m   1375\u001b[0m             \u001b[39mbreak\u001b[39;00m\n\u001b[1;32m   1376\u001b[0m \u001b[39m# we get the result in case there's an error to raise\u001b[39;00m\n\u001b[0;32m-> 1377\u001b[0m [async_result\u001b[39m.\u001b[39mget() \u001b[39mfor\u001b[39;00m async_result \u001b[39min\u001b[39;00m async_results]\n",
            "File \u001b[0;32m~/Code/speech-recognition/.conda/lib/python3.10/site-packages/datasets/utils/py_utils.py:1377\u001b[0m, in \u001b[0;36m<listcomp>\u001b[0;34m(.0)\u001b[0m\n\u001b[1;32m   1375\u001b[0m             \u001b[39mbreak\u001b[39;00m\n\u001b[1;32m   1376\u001b[0m \u001b[39m# we get the result in case there's an error to raise\u001b[39;00m\n\u001b[0;32m-> 1377\u001b[0m [async_result\u001b[39m.\u001b[39;49mget() \u001b[39mfor\u001b[39;00m async_result \u001b[39min\u001b[39;00m async_results]\n",
            "File \u001b[0;32m~/Code/speech-recognition/.conda/lib/python3.10/site-packages/multiprocess/pool.py:774\u001b[0m, in \u001b[0;36mApplyResult.get\u001b[0;34m(self, timeout)\u001b[0m\n\u001b[1;32m    772\u001b[0m     \u001b[39mreturn\u001b[39;00m \u001b[39mself\u001b[39m\u001b[39m.\u001b[39m_value\n\u001b[1;32m    773\u001b[0m \u001b[39melse\u001b[39;00m:\n\u001b[0;32m--> 774\u001b[0m     \u001b[39mraise\u001b[39;00m \u001b[39mself\u001b[39m\u001b[39m.\u001b[39m_value\n",
            "\u001b[0;31mOSError\u001b[0m: [Errno 28] No space left on device"
          ]
        }
      ],
      "source": [
        "libritts = libritts.map(\n",
        "  prepare_dataset,\n",
        "  remove_columns=libritts.column_names[\"train\"],\n",
        "  num_proc=2,\n",
        "  writer_batch_size=10,\n",
        "  cache_file_names={\n",
        "    \"train\": \"whisper_processed_libritts_train_cache.arrow\",\n",
        "    \"test\": \"whisper_processed_libritts_test_cache.arrow\"\n",
        "  }\n",
        ")"
      ]
    },
    {
      "cell_type": "markdown",
      "id": "263a5a58-0239-4a25-b0df-c625fc9c5810",
      "metadata": {
        "id": "263a5a58-0239-4a25-b0df-c625fc9c5810"
      },
      "source": [
        "## Training and Evaluation"
      ]
    },
    {
      "cell_type": "markdown",
      "id": "a693e768-c5a6-453f-89a1-b601dcf7daf7",
      "metadata": {
        "id": "a693e768-c5a6-453f-89a1-b601dcf7daf7"
      },
      "source": [
        "Now that we've prepared our data, we're ready to dive into the training pipeline. \n",
        "The [🤗 Trainer](https://huggingface.co/transformers/master/main_classes/trainer.html?highlight=trainer)\n",
        "will do much of the heavy lifting for us. All we have to do is:\n",
        "\n",
        "- Define a data collator: the data collator takes our pre-processed data and prepares PyTorch tensors ready for the model.\n",
        "\n",
        "- Evaluation metrics: during evaluation, we want to evaluate the model using the [word error rate (WER)](https://huggingface.co/metrics/wer) metric. We need to define a `compute_metrics` function that handles this computation.\n",
        "\n",
        "- Load a pre-trained checkpoint: we need to load a pre-trained checkpoint and configure it correctly for training.\n",
        "\n",
        "- Define the training configuration: this will be used by the 🤗 Trainer to define the training schedule.\n",
        "\n",
        "Once we've fine-tuned the model, we will evaluate it on the test data to verify that we have correctly trained it \n",
        "to transcribe speech in Hindi."
      ]
    },
    {
      "cell_type": "markdown",
      "id": "8d230e6d-624c-400a-bbf5-fa660881df25",
      "metadata": {
        "id": "8d230e6d-624c-400a-bbf5-fa660881df25"
      },
      "source": [
        "### Define a Data Collator"
      ]
    },
    {
      "cell_type": "markdown",
      "id": "04def221-0637-4a69-b242-d3f0c1d0ee78",
      "metadata": {
        "id": "04def221-0637-4a69-b242-d3f0c1d0ee78"
      },
      "source": [
        "The data collator for a sequence-to-sequence speech model is unique in the sense that it \n",
        "treats the `input_features` and `labels` independently: the  `input_features` must be \n",
        "handled by the feature extractor and the `labels` by the tokenizer.\n",
        "\n",
        "The `input_features` are already padded to 30s and converted to a log-Mel spectrogram \n",
        "of fixed dimension by action of the feature extractor, so all we have to do is convert the `input_features`\n",
        "to batched PyTorch tensors. We do this using the feature extractor's `.pad` method with `return_tensors=pt`.\n",
        "\n",
        "The `labels` on the other hand are un-padded. We first pad the sequences\n",
        "to the maximum length in the batch using the tokenizer's `.pad` method. The padding tokens \n",
        "are then replaced by `-100` so that these tokens are **not** taken into account when \n",
        "computing the loss. We then cut the BOS token from the start of the label sequence as we \n",
        "append it later during training.\n",
        "\n",
        "We can leverage the `WhisperProcessor` we defined earlier to perform both the \n",
        "feature extractor and the tokenizer operations:"
      ]
    },
    {
      "cell_type": "code",
      "execution_count": null,
      "id": "8326221e-ec13-4731-bb4e-51e5fc1486c5",
      "metadata": {
        "id": "8326221e-ec13-4731-bb4e-51e5fc1486c5"
      },
      "outputs": [],
      "source": [
        "import torch\n",
        "\n",
        "from dataclasses import dataclass\n",
        "from typing import Any, Dict, List, Union\n",
        "\n",
        "@dataclass\n",
        "class DataCollatorSpeechSeq2SeqWithPadding:\n",
        "    processor: Any\n",
        "\n",
        "    def __call__(self, features: List[Dict[str, Union[List[int], torch.Tensor]]]) -> Dict[str, torch.Tensor]:\n",
        "        # split inputs and labels since they have to be of different lengths and need different padding methods\n",
        "        # first treat the audio inputs by simply returning torch tensors\n",
        "        input_features = [{\"input_features\": feature[\"input_features\"]} for feature in features]\n",
        "        batch = self.processor.feature_extractor.pad(input_features, return_tensors=\"pt\")\n",
        "\n",
        "        # get the tokenized label sequences\n",
        "        label_features = [{\"input_ids\": feature[\"labels\"]} for feature in features]\n",
        "        # pad the labels to max length\n",
        "        labels_batch = self.processor.tokenizer.pad(label_features, return_tensors=\"pt\")\n",
        "\n",
        "        # replace padding with -100 to ignore loss correctly\n",
        "        labels = labels_batch[\"input_ids\"].masked_fill(labels_batch.attention_mask.ne(1), -100)\n",
        "\n",
        "        # if bos token is appended in previous tokenization step,\n",
        "        # cut bos token here as it's append later anyways\n",
        "        if (labels[:, 0] == self.processor.tokenizer.bos_token_id).all().cpu().item():\n",
        "            labels = labels[:, 1:]\n",
        "\n",
        "        batch[\"labels\"] = labels\n",
        "\n",
        "        return batch"
      ]
    },
    {
      "cell_type": "markdown",
      "id": "3cae7dbf-8a50-456e-a3a8-7fd005390f86",
      "metadata": {
        "id": "3cae7dbf-8a50-456e-a3a8-7fd005390f86"
      },
      "source": [
        "Let's initialise the data collator we've just defined:"
      ]
    },
    {
      "cell_type": "code",
      "execution_count": null,
      "id": "fc834702-c0d3-4a96-b101-7b87be32bf42",
      "metadata": {
        "id": "fc834702-c0d3-4a96-b101-7b87be32bf42"
      },
      "outputs": [],
      "source": [
        "data_collator = DataCollatorSpeechSeq2SeqWithPadding(processor=processor)"
      ]
    },
    {
      "cell_type": "markdown",
      "id": "d62bb2ab-750a-45e7-82e9-61d6f4805698",
      "metadata": {
        "id": "d62bb2ab-750a-45e7-82e9-61d6f4805698"
      },
      "source": [
        "### Evaluation Metrics"
      ]
    },
    {
      "cell_type": "markdown",
      "id": "66fee1a7-a44c-461e-b047-c3917221572e",
      "metadata": {
        "id": "66fee1a7-a44c-461e-b047-c3917221572e"
      },
      "source": [
        "We'll use the word error rate (WER) metric, the 'de-facto' metric for assessing \n",
        "ASR systems. For more information, refer to the WER [docs](https://huggingface.co/metrics/wer). We'll load the WER metric from 🤗 Evaluate:"
      ]
    },
    {
      "cell_type": "code",
      "execution_count": null,
      "id": "b22b4011-f31f-4b57-b684-c52332f92890",
      "metadata": {
        "id": "b22b4011-f31f-4b57-b684-c52332f92890"
      },
      "outputs": [],
      "source": [
        "import evaluate\n",
        "\n",
        "metric = evaluate.load(\"wer\")"
      ]
    },
    {
      "cell_type": "markdown",
      "id": "4f32cab6-31f0-4cb9-af4c-40ba0f5fc508",
      "metadata": {
        "id": "4f32cab6-31f0-4cb9-af4c-40ba0f5fc508"
      },
      "source": [
        "We then simply have to define a function that takes our model \n",
        "predictions and returns the WER metric. This function, called\n",
        "`compute_metrics`, first replaces `-100` with the `pad_token_id`\n",
        "in the `label_ids` (undoing the step we applied in the \n",
        "data collator to ignore padded tokens correctly in the loss).\n",
        "It then decodes the predicted and label ids to strings. Finally,\n",
        "it computes the WER between the predictions and reference labels:"
      ]
    },
    {
      "cell_type": "code",
      "execution_count": null,
      "id": "23959a70-22d0-4ffe-9fa1-72b61e75bb52",
      "metadata": {
        "id": "23959a70-22d0-4ffe-9fa1-72b61e75bb52"
      },
      "outputs": [],
      "source": [
        "def compute_metrics(pred):\n",
        "    pred_ids = pred.predictions\n",
        "    label_ids = pred.label_ids\n",
        "\n",
        "    # replace -100 with the pad_token_id\n",
        "    label_ids[label_ids == -100] = tokenizer.pad_token_id\n",
        "\n",
        "    # we do not want to group tokens when computing the metrics\n",
        "    pred_str = tokenizer.batch_decode(pred_ids, skip_special_tokens=True)\n",
        "    label_str = tokenizer.batch_decode(label_ids, skip_special_tokens=True)\n",
        "\n",
        "    wer = 100 * metric.compute(predictions=pred_str, references=label_str)\n",
        "\n",
        "    return {\"wer\": wer}"
      ]
    },
    {
      "cell_type": "markdown",
      "id": "daf2a825-6d9f-4a23-b145-c37c0039075b",
      "metadata": {
        "id": "daf2a825-6d9f-4a23-b145-c37c0039075b"
      },
      "source": [
        "### Load a Pre-Trained Checkpoint"
      ]
    },
    {
      "cell_type": "markdown",
      "id": "437a97fa-4864-476b-8abc-f28b8166cfa5",
      "metadata": {
        "id": "437a97fa-4864-476b-8abc-f28b8166cfa5"
      },
      "source": [
        "Now let's load the pre-trained Whisper `small` checkpoint. Again, this \n",
        "is trivial through use of 🤗 Transformers!"
      ]
    },
    {
      "cell_type": "code",
      "execution_count": null,
      "id": "5a10cc4b-07ec-4ebd-ac1d-7c601023594f",
      "metadata": {
        "id": "5a10cc4b-07ec-4ebd-ac1d-7c601023594f"
      },
      "outputs": [],
      "source": [
        "from transformers import WhisperForConditionalGeneration\n",
        "\n",
        "model = WhisperForConditionalGeneration.from_pretrained(\"openai/whisper-small\")"
      ]
    },
    {
      "cell_type": "markdown",
      "id": "a15ead5f-2277-4a39-937b-585c2497b2df",
      "metadata": {
        "id": "a15ead5f-2277-4a39-937b-585c2497b2df"
      },
      "source": [
        "Override generation arguments - no tokens are forced as decoder outputs (see [`forced_decoder_ids`](https://huggingface.co/docs/transformers/main_classes/text_generation#transformers.generation_utils.GenerationMixin.generate.forced_decoder_ids)), no tokens are suppressed during generation (see [`suppress_tokens`](https://huggingface.co/docs/transformers/main_classes/text_generation#transformers.generation_utils.GenerationMixin.generate.suppress_tokens)):"
      ]
    },
    {
      "cell_type": "code",
      "execution_count": null,
      "id": "62038ba3-88ed-4fce-84db-338f50dcd04f",
      "metadata": {
        "id": "62038ba3-88ed-4fce-84db-338f50dcd04f"
      },
      "outputs": [],
      "source": [
        "model.config.forced_decoder_ids = None\n",
        "model.config.suppress_tokens = []"
      ]
    },
    {
      "cell_type": "markdown",
      "id": "2178dea4-80ca-47b6-b6ea-ba1915c90c06",
      "metadata": {
        "id": "2178dea4-80ca-47b6-b6ea-ba1915c90c06"
      },
      "source": [
        "### Define the Training Configuration"
      ]
    },
    {
      "cell_type": "markdown",
      "id": "c21af1e9-0188-4134-ac82-defc7bdcc436",
      "metadata": {
        "id": "c21af1e9-0188-4134-ac82-defc7bdcc436"
      },
      "source": [
        "In the final step, we define all the parameters related to training. For more detail on the training arguments, refer to the Seq2SeqTrainingArguments [docs](https://huggingface.co/docs/transformers/main_classes/trainer#transformers.Seq2SeqTrainingArguments)."
      ]
    },
    {
      "cell_type": "code",
      "execution_count": null,
      "id": "0ae3e9af-97b7-4aa0-ae85-20b23b5bcb3a",
      "metadata": {
        "id": "0ae3e9af-97b7-4aa0-ae85-20b23b5bcb3a"
      },
      "outputs": [],
      "source": [
        "from transformers import Seq2SeqTrainingArguments\n",
        "\n",
        "training_args = Seq2SeqTrainingArguments(\n",
        "    output_dir=\"./cse-404-whisper-small\",  # change to a repo name of your choice\n",
        "    per_device_train_batch_size=16,\n",
        "    gradient_accumulation_steps=1,  # increase by 2x for every 2x decrease in batch size\n",
        "    learning_rate=1e-5,\n",
        "    warmup_steps=500,\n",
        "    max_steps=4000,\n",
        "    gradient_checkpointing=True,\n",
        "    fp16=True,\n",
        "    evaluation_strategy=\"steps\",\n",
        "    per_device_eval_batch_size=8,\n",
        "    predict_with_generate=True,\n",
        "    generation_max_length=225,\n",
        "    save_steps=1000,\n",
        "    eval_steps=1000,\n",
        "    logging_steps=25,\n",
        "    report_to=[\"tensorboard\"],\n",
        "    load_best_model_at_end=True,\n",
        "    metric_for_best_model=\"wer\",\n",
        "    greater_is_better=False,\n",
        "    push_to_hub=True,\n",
        ")"
      ]
    },
    {
      "cell_type": "markdown",
      "id": "b3a944d8-3112-4552-82a0-be25988b3857",
      "metadata": {
        "id": "b3a944d8-3112-4552-82a0-be25988b3857"
      },
      "source": [
        "**Note**: if one does not want to upload the model checkpoints to the Hub, \n",
        "set `push_to_hub=False`."
      ]
    },
    {
      "cell_type": "markdown",
      "id": "bac29114-d226-4f54-97cf-8718c9f94e1e",
      "metadata": {
        "id": "bac29114-d226-4f54-97cf-8718c9f94e1e"
      },
      "source": [
        "We can forward the training arguments to the 🤗 Trainer along with our model,\n",
        "dataset, data collator and `compute_metrics` function:"
      ]
    },
    {
      "cell_type": "code",
      "execution_count": null,
      "id": "d546d7fe-0543-479a-b708-2ebabec19493",
      "metadata": {
        "id": "d546d7fe-0543-479a-b708-2ebabec19493"
      },
      "outputs": [],
      "source": [
        "from transformers import Seq2SeqTrainer\n",
        "\n",
        "trainer = Seq2SeqTrainer(\n",
        "    args=training_args,\n",
        "    model=model,\n",
        "    train_dataset=libritts[\"train\"],\n",
        "    eval_dataset=libritts[\"test\"],\n",
        "    data_collator=data_collator,\n",
        "    compute_metrics=compute_metrics,\n",
        "    tokenizer=processor.feature_extractor,\n",
        ")"
      ]
    },
    {
      "cell_type": "markdown",
      "id": "uOrRhDGtN5S4",
      "metadata": {
        "id": "uOrRhDGtN5S4"
      },
      "source": [
        "We'll save the processor object once before starting training. Since the processor is not trainable, it won't change over the course of training:"
      ]
    },
    {
      "cell_type": "code",
      "execution_count": null,
      "id": "-2zQwMfEOBJq",
      "metadata": {
        "id": "-2zQwMfEOBJq"
      },
      "outputs": [],
      "source": [
        "processor.save_pretrained(training_args.output_dir)"
      ]
    },
    {
      "cell_type": "markdown",
      "id": "7f404cf9-4345-468c-8196-4bd101d9bd51",
      "metadata": {
        "id": "7f404cf9-4345-468c-8196-4bd101d9bd51"
      },
      "source": [
        "### Training"
      ]
    },
    {
      "cell_type": "markdown",
      "id": "5e8b8d56-5a70-4f68-bd2e-f0752d0bd112",
      "metadata": {
        "id": "5e8b8d56-5a70-4f68-bd2e-f0752d0bd112"
      },
      "source": [
        "Training will take approximately 5-10 hours depending on your GPU or the one \n",
        "allocated to this Google Colab. If using this Google Colab directly to \n",
        "fine-tune a Whisper model, you should make sure that training isn't \n",
        "interrupted due to inactivity. A simple workaround to prevent this is \n",
        "to paste the following code into the console of this tab (_right mouse click_ \n",
        "-> _inspect_ -> _Console tab_ -> _insert code_)."
      ]
    },
    {
      "cell_type": "markdown",
      "id": "890a63ed-e87b-4e53-a35a-6ec1eca560af",
      "metadata": {
        "id": "890a63ed-e87b-4e53-a35a-6ec1eca560af"
      },
      "source": [
        "```javascript\n",
        "function ConnectButton(){\n",
        "    console.log(\"Connect pushed\"); \n",
        "    document.querySelector(\"#top-toolbar > colab-connect-button\").shadowRoot.querySelector(\"#connect\").click() \n",
        "}\n",
        "setInterval(ConnectButton, 60000);\n",
        "```"
      ]
    },
    {
      "cell_type": "markdown",
      "id": "5a55168b-2f46-4678-afa0-ff22257ec06d",
      "metadata": {
        "id": "5a55168b-2f46-4678-afa0-ff22257ec06d"
      },
      "source": [
        "The peak GPU memory for the given training configuration is approximately 15.8GB. \n",
        "Depending on the GPU allocated to the Google Colab, it is possible that you will encounter a CUDA `\"out-of-memory\"` error when you launch training. \n",
        "In this case, you can reduce the `per_device_train_batch_size` incrementally by factors of 2 \n",
        "and employ [`gradient_accumulation_steps`](https://huggingface.co/docs/transformers/main_classes/trainer#transformers.Seq2SeqTrainingArguments.gradient_accumulation_steps)\n",
        "to compensate.\n",
        "\n",
        "To launch training, simply execute:"
      ]
    },
    {
      "cell_type": "code",
      "execution_count": null,
      "id": "ee8b7b8e-1c9a-4d77-9137-1778a629e6de",
      "metadata": {
        "id": "ee8b7b8e-1c9a-4d77-9137-1778a629e6de"
      },
      "outputs": [],
      "source": [
        "trainer.train()"
      ]
    },
    {
      "cell_type": "markdown",
      "id": "810ced54-7187-4a06-b2fe-ba6dcca94dc3",
      "metadata": {
        "id": "810ced54-7187-4a06-b2fe-ba6dcca94dc3"
      },
      "source": [
        "Our best WER is 32.0% - not bad for 8h of training data! We can submit our checkpoint to the [`hf-speech-bench`](https://huggingface.co/spaces/huggingface/hf-speech-bench) on push by setting the appropriate key-word arguments (kwargs):"
      ]
    },
    {
      "cell_type": "code",
      "execution_count": null,
      "id": "c704f91e-241b-48c9-b8e0-f0da396a9663",
      "metadata": {
        "id": "c704f91e-241b-48c9-b8e0-f0da396a9663"
      },
      "outputs": [],
      "source": [
        "kwargs = {\n",
        "    \"dataset_tags\": \"mozilla-foundation/common_voice_11_0\",\n",
        "    \"dataset\": \"Common Voice 11.0\",  # a 'pretty' name for the training dataset\n",
        "    \"dataset_args\": \"config: hi, split: test\",\n",
        "    \"language\": \"hi\",\n",
        "    \"model_name\": \"Whisper Small Hi - Sanchit Gandhi\",  # a 'pretty' name for our model\n",
        "    \"finetuned_from\": \"openai/whisper-small\",\n",
        "    \"tasks\": \"automatic-speech-recognition\",\n",
        "    \"tags\": \"hf-asr-leaderboard\",\n",
        "}"
      ]
    },
    {
      "cell_type": "markdown",
      "id": "090d676a-f944-4297-a938-a40eda0b2b68",
      "metadata": {
        "id": "090d676a-f944-4297-a938-a40eda0b2b68"
      },
      "source": [
        "The training results can now be uploaded to the Hub. To do so, execute the `push_to_hub` command and save the preprocessor object we created:"
      ]
    },
    {
      "cell_type": "code",
      "execution_count": null,
      "id": "d7030622-caf7-4039-939b-6195cdaa2585",
      "metadata": {
        "id": "d7030622-caf7-4039-939b-6195cdaa2585"
      },
      "outputs": [],
      "source": [
        "trainer.push_to_hub(**kwargs)"
      ]
    },
    {
      "cell_type": "markdown",
      "id": "34d4360d-5721-426e-b6ac-178f833fedeb",
      "metadata": {
        "id": "34d4360d-5721-426e-b6ac-178f833fedeb"
      },
      "source": [
        "## Building a Demo"
      ]
    },
    {
      "cell_type": "markdown",
      "id": "e65489b7-18d1-447c-ba69-cd28dd80dad9",
      "metadata": {
        "id": "e65489b7-18d1-447c-ba69-cd28dd80dad9"
      },
      "source": [
        "Now that we've fine-tuned our model we can build a demo to show \n",
        "off its ASR capabilities! We'll make use of 🤗 Transformers \n",
        "`pipeline`, which will take care of the entire ASR pipeline, \n",
        "right from pre-processing the audio inputs to decoding the \n",
        "model predictions.\n",
        "\n",
        "Running the example below will generate a Gradio demo where we \n",
        "can record speech through the microphone of our computer and input it to \n",
        "our fine-tuned Whisper model to transcribe the corresponding text:"
      ]
    },
    {
      "cell_type": "code",
      "execution_count": null,
      "id": "e0ace3aa-1ef3-45cb-933f-6ddca037c5aa",
      "metadata": {
        "id": "e0ace3aa-1ef3-45cb-933f-6ddca037c5aa"
      },
      "outputs": [],
      "source": [
        "from transformers import pipeline\n",
        "import gradio as gr\n",
        "\n",
        "pipe = pipeline(model=\"sanchit-gandhi/whisper-small-hi\")  # change to \"your-username/the-name-you-picked\"\n",
        "\n",
        "def transcribe(audio):\n",
        "    text = pipe(audio)[\"text\"]\n",
        "    return text\n",
        "\n",
        "iface = gr.Interface(\n",
        "    fn=transcribe, \n",
        "    inputs=gr.Audio(source=\"microphone\", type=\"filepath\"), \n",
        "    outputs=\"text\",\n",
        "    title=\"Whisper Small Hindi\",\n",
        "    description=\"Realtime demo for Hindi speech recognition using a fine-tuned Whisper small model.\",\n",
        ")\n",
        "\n",
        "iface.launch()"
      ]
    },
    {
      "cell_type": "markdown",
      "id": "ca743fbd-602c-48d4-ba8d-a2fe60af64ba",
      "metadata": {
        "id": "ca743fbd-602c-48d4-ba8d-a2fe60af64ba"
      },
      "source": [
        "## Closing Remarks"
      ]
    },
    {
      "cell_type": "markdown",
      "id": "7f737783-2870-4e35-aa11-86a42d7d997a",
      "metadata": {
        "id": "7f737783-2870-4e35-aa11-86a42d7d997a"
      },
      "source": [
        "In this blog, we covered a step-by-step guide on fine-tuning Whisper for multilingual ASR \n",
        "using 🤗 Datasets, Transformers and the Hugging Face Hub. For more details on the Whisper model, the Common Voice dataset and the theory behind fine-tuning, refere to the accompanying [blog post](https://huggingface.co/blog/fine-tune-whisper). If you're interested in fine-tuning other \n",
        "Transformers models, both for English and multilingual ASR, be sure to check out the \n",
        "examples scripts at [examples/pytorch/speech-recognition](https://github.com/huggingface/transformers/tree/main/examples/pytorch/speech-recognition)."
      ]
    }
  ],
  "metadata": {
    "accelerator": "GPU",
    "colab": {
      "provenance": []
    },
    "gpuClass": "standard",
    "kernelspec": {
      "display_name": "Python 3 (ipykernel)",
      "language": "python",
      "name": "python3"
    },
    "language_info": {
      "codemirror_mode": {
        "name": "ipython",
        "version": 3
      },
      "file_extension": ".py",
      "mimetype": "text/x-python",
      "name": "python",
      "nbconvert_exporter": "python",
      "pygments_lexer": "ipython3",
      "version": "3.10.9"
    },
    "widgets": {
      "application/vnd.jupyter.widget-state+json": {
        "0727261897234090b720fccabf003f2e": {
          "model_module": "@jupyter-widgets/controls",
          "model_module_version": "1.5.0",
          "model_name": "FloatProgressModel",
          "state": {
            "_dom_classes": [],
            "_model_module": "@jupyter-widgets/controls",
            "_model_module_version": "1.5.0",
            "_model_name": "FloatProgressModel",
            "_view_count": null,
            "_view_module": "@jupyter-widgets/controls",
            "_view_module_version": "1.5.0",
            "_view_name": "ProgressView",
            "bar_style": "success",
            "description": "",
            "description_tooltip": null,
            "layout": "IPY_MODEL_ef8a64687c304789a3b86db287f283e9",
            "max": 184990,
            "min": 0,
            "orientation": "horizontal",
            "style": "IPY_MODEL_a13d955a791f474eb6975258a2d704f1",
            "value": 184990
          }
        },
        "0d01a11f801348a1b3f05ef243247e4c": {
          "model_module": "@jupyter-widgets/controls",
          "model_module_version": "1.5.0",
          "model_name": "ButtonModel",
          "state": {
            "_dom_classes": [],
            "_model_module": "@jupyter-widgets/controls",
            "_model_module_version": "1.5.0",
            "_model_name": "ButtonModel",
            "_view_count": null,
            "_view_module": "@jupyter-widgets/controls",
            "_view_module_version": "1.5.0",
            "_view_name": "ButtonView",
            "button_style": "",
            "description": "Login",
            "disabled": false,
            "icon": "",
            "layout": "IPY_MODEL_d11a897e8d7c42a7b24d18ef008d1341",
            "style": "IPY_MODEL_30dd622b2f8a4906af170e18f9af2fe0",
            "tooltip": ""
          }
        },
        "0e401f0f52074320bd79624226e2017d": {
          "model_module": "@jupyter-widgets/controls",
          "model_module_version": "1.5.0",
          "model_name": "HTMLModel",
          "state": {
            "_dom_classes": [],
            "_model_module": "@jupyter-widgets/controls",
            "_model_module_version": "1.5.0",
            "_model_name": "HTMLModel",
            "_view_count": null,
            "_view_module": "@jupyter-widgets/controls",
            "_view_module_version": "1.5.0",
            "_view_name": "HTMLView",
            "description": "",
            "description_tooltip": null,
            "layout": "IPY_MODEL_401418187fb54b11b9b2175cfeda4849",
            "placeholder": "​",
            "style": "IPY_MODEL_ed375721fd704353b421d0cc4c3a2802",
            "value": "\n<b>Pro Tip:</b> If you don't already have one, you can create a dedicated\n'notebooks' token with 'write' access, that you can then easily reuse for all\nnotebooks. </center>"
          }
        },
        "11e26c2c13d3484a94804ae4cd2dedef": {
          "model_module": "@jupyter-widgets/controls",
          "model_module_version": "1.5.0",
          "model_name": "HBoxModel",
          "state": {
            "_dom_classes": [],
            "_model_module": "@jupyter-widgets/controls",
            "_model_module_version": "1.5.0",
            "_model_name": "HBoxModel",
            "_view_count": null,
            "_view_module": "@jupyter-widgets/controls",
            "_view_module_version": "1.5.0",
            "_view_name": "HBoxView",
            "box_style": "",
            "children": [
              "IPY_MODEL_bec048083d5c48e69f6da7265746725e",
              "IPY_MODEL_147a24a4434f4229ad919de402389e3d",
              "IPY_MODEL_9544469398b24ae2b71474ac2bbff8cd"
            ],
            "layout": "IPY_MODEL_1850494456334e7faa53059192ca24ab"
          }
        },
        "147a24a4434f4229ad919de402389e3d": {
          "model_module": "@jupyter-widgets/controls",
          "model_module_version": "1.5.0",
          "model_name": "FloatProgressModel",
          "state": {
            "_dom_classes": [],
            "_model_module": "@jupyter-widgets/controls",
            "_model_module_version": "1.5.0",
            "_model_name": "FloatProgressModel",
            "_view_count": null,
            "_view_module": "@jupyter-widgets/controls",
            "_view_module_version": "1.5.0",
            "_view_name": "ProgressView",
            "bar_style": "",
            "description": "",
            "description_tooltip": null,
            "layout": "IPY_MODEL_66c4d92a38ab47f5891ada470e636326",
            "max": 33236,
            "min": 0,
            "orientation": "horizontal",
            "style": "IPY_MODEL_d788aecab6754e5ca288b2b6bf1bb82a",
            "value": 198
          }
        },
        "1850494456334e7faa53059192ca24ab": {
          "model_module": "@jupyter-widgets/base",
          "model_module_version": "1.2.0",
          "model_name": "LayoutModel",
          "state": {
            "_model_module": "@jupyter-widgets/base",
            "_model_module_version": "1.2.0",
            "_model_name": "LayoutModel",
            "_view_count": null,
            "_view_module": "@jupyter-widgets/base",
            "_view_module_version": "1.2.0",
            "_view_name": "LayoutView",
            "align_content": null,
            "align_items": null,
            "align_self": null,
            "border": null,
            "bottom": null,
            "display": null,
            "flex": null,
            "flex_flow": null,
            "grid_area": null,
            "grid_auto_columns": null,
            "grid_auto_flow": null,
            "grid_auto_rows": null,
            "grid_column": null,
            "grid_gap": null,
            "grid_row": null,
            "grid_template_areas": null,
            "grid_template_columns": null,
            "grid_template_rows": null,
            "height": null,
            "justify_content": null,
            "justify_items": null,
            "left": null,
            "margin": null,
            "max_height": null,
            "max_width": null,
            "min_height": null,
            "min_width": null,
            "object_fit": null,
            "object_position": null,
            "order": null,
            "overflow": null,
            "overflow_x": null,
            "overflow_y": null,
            "padding": null,
            "right": null,
            "top": null,
            "visibility": null,
            "width": null
          }
        },
        "1b25324510394f6d9f981001c4111696": {
          "model_module": "@jupyter-widgets/base",
          "model_module_version": "1.2.0",
          "model_name": "LayoutModel",
          "state": {
            "_model_module": "@jupyter-widgets/base",
            "_model_module_version": "1.2.0",
            "_model_name": "LayoutModel",
            "_view_count": null,
            "_view_module": "@jupyter-widgets/base",
            "_view_module_version": "1.2.0",
            "_view_name": "LayoutView",
            "align_content": null,
            "align_items": "center",
            "align_self": null,
            "border": null,
            "bottom": null,
            "display": "flex",
            "flex": null,
            "flex_flow": "column",
            "grid_area": null,
            "grid_auto_columns": null,
            "grid_auto_flow": null,
            "grid_auto_rows": null,
            "grid_column": null,
            "grid_gap": null,
            "grid_row": null,
            "grid_template_areas": null,
            "grid_template_columns": null,
            "grid_template_rows": null,
            "height": null,
            "justify_content": null,
            "justify_items": null,
            "left": null,
            "margin": null,
            "max_height": null,
            "max_width": null,
            "min_height": null,
            "min_width": null,
            "object_fit": null,
            "object_position": null,
            "order": null,
            "overflow": null,
            "overflow_x": null,
            "overflow_y": null,
            "padding": null,
            "right": null,
            "top": null,
            "visibility": null,
            "width": "50%"
          }
        },
        "27fcddc0a8e64d299ee6ad9d05ebc1b1": {
          "model_module": "@jupyter-widgets/controls",
          "model_module_version": "1.5.0",
          "model_name": "DescriptionStyleModel",
          "state": {
            "_model_module": "@jupyter-widgets/controls",
            "_model_module_version": "1.5.0",
            "_model_name": "DescriptionStyleModel",
            "_view_count": null,
            "_view_module": "@jupyter-widgets/base",
            "_view_module_version": "1.2.0",
            "_view_name": "StyleView",
            "description_width": ""
          }
        },
        "2fab9b2f21de4f4a98d64641b1dff07c": {
          "model_module": "@jupyter-widgets/base",
          "model_module_version": "1.2.0",
          "model_name": "LayoutModel",
          "state": {
            "_model_module": "@jupyter-widgets/base",
            "_model_module_version": "1.2.0",
            "_model_name": "LayoutModel",
            "_view_count": null,
            "_view_module": "@jupyter-widgets/base",
            "_view_module_version": "1.2.0",
            "_view_name": "LayoutView",
            "align_content": null,
            "align_items": null,
            "align_self": null,
            "border": null,
            "bottom": null,
            "display": null,
            "flex": null,
            "flex_flow": null,
            "grid_area": null,
            "grid_auto_columns": null,
            "grid_auto_flow": null,
            "grid_auto_rows": null,
            "grid_column": null,
            "grid_gap": null,
            "grid_row": null,
            "grid_template_areas": null,
            "grid_template_columns": null,
            "grid_template_rows": null,
            "height": null,
            "justify_content": null,
            "justify_items": null,
            "left": null,
            "margin": null,
            "max_height": null,
            "max_width": null,
            "min_height": null,
            "min_width": null,
            "object_fit": null,
            "object_position": null,
            "order": null,
            "overflow": null,
            "overflow_x": null,
            "overflow_y": null,
            "padding": null,
            "right": null,
            "top": null,
            "visibility": null,
            "width": null
          }
        },
        "30dd622b2f8a4906af170e18f9af2fe0": {
          "model_module": "@jupyter-widgets/controls",
          "model_module_version": "1.5.0",
          "model_name": "ButtonStyleModel",
          "state": {
            "_model_module": "@jupyter-widgets/controls",
            "_model_module_version": "1.5.0",
            "_model_name": "ButtonStyleModel",
            "_view_count": null,
            "_view_module": "@jupyter-widgets/base",
            "_view_module_version": "1.2.0",
            "_view_name": "StyleView",
            "button_color": null,
            "font_weight": ""
          }
        },
        "401418187fb54b11b9b2175cfeda4849": {
          "model_module": "@jupyter-widgets/base",
          "model_module_version": "1.2.0",
          "model_name": "LayoutModel",
          "state": {
            "_model_module": "@jupyter-widgets/base",
            "_model_module_version": "1.2.0",
            "_model_name": "LayoutModel",
            "_view_count": null,
            "_view_module": "@jupyter-widgets/base",
            "_view_module_version": "1.2.0",
            "_view_name": "LayoutView",
            "align_content": null,
            "align_items": null,
            "align_self": null,
            "border": null,
            "bottom": null,
            "display": null,
            "flex": null,
            "flex_flow": null,
            "grid_area": null,
            "grid_auto_columns": null,
            "grid_auto_flow": null,
            "grid_auto_rows": null,
            "grid_column": null,
            "grid_gap": null,
            "grid_row": null,
            "grid_template_areas": null,
            "grid_template_columns": null,
            "grid_template_rows": null,
            "height": null,
            "justify_content": null,
            "justify_items": null,
            "left": null,
            "margin": null,
            "max_height": null,
            "max_width": null,
            "min_height": null,
            "min_width": null,
            "object_fit": null,
            "object_position": null,
            "order": null,
            "overflow": null,
            "overflow_x": null,
            "overflow_y": null,
            "padding": null,
            "right": null,
            "top": null,
            "visibility": null,
            "width": null
          }
        },
        "4416bbd89d094df2b201f8ee7079300c": {
          "model_module": "@jupyter-widgets/controls",
          "model_module_version": "1.5.0",
          "model_name": "VBoxModel",
          "state": {
            "_dom_classes": [],
            "_model_module": "@jupyter-widgets/controls",
            "_model_module_version": "1.5.0",
            "_model_name": "VBoxModel",
            "_view_count": null,
            "_view_module": "@jupyter-widgets/controls",
            "_view_module_version": "1.5.0",
            "_view_name": "VBoxView",
            "box_style": "",
            "children": [
              "IPY_MODEL_7df9cd5bf4be4325a6d42eaa1315b8f6",
              "IPY_MODEL_9d503a7ce9254390bd6de44d24d75ca7",
              "IPY_MODEL_551b9cd9705549678165c60ed62e4122",
              "IPY_MODEL_0d01a11f801348a1b3f05ef243247e4c",
              "IPY_MODEL_0e401f0f52074320bd79624226e2017d"
            ],
            "layout": "IPY_MODEL_1b25324510394f6d9f981001c4111696"
          }
        },
        "4489c7989c7441ddbbfdea4cce03ffb6": {
          "model_module": "@jupyter-widgets/controls",
          "model_module_version": "1.5.0",
          "model_name": "DescriptionStyleModel",
          "state": {
            "_model_module": "@jupyter-widgets/controls",
            "_model_module_version": "1.5.0",
            "_model_name": "DescriptionStyleModel",
            "_view_count": null,
            "_view_module": "@jupyter-widgets/base",
            "_view_module_version": "1.2.0",
            "_view_name": "StyleView",
            "description_width": ""
          }
        },
        "4c7c0ae822cc4f82bd5d6db5e0acaea9": {
          "model_module": "@jupyter-widgets/controls",
          "model_module_version": "1.5.0",
          "model_name": "HTMLModel",
          "state": {
            "_dom_classes": [],
            "_model_module": "@jupyter-widgets/controls",
            "_model_module_version": "1.5.0",
            "_model_name": "HTMLModel",
            "_view_count": null,
            "_view_module": "@jupyter-widgets/controls",
            "_view_module_version": "1.5.0",
            "_view_name": "HTMLView",
            "description": "",
            "description_tooltip": null,
            "layout": "IPY_MODEL_807b794d0b864550b460b1e2b5a12e1f",
            "placeholder": "​",
            "style": "IPY_MODEL_96fbfbc9693540599ff7eddaf54b32a0",
            "value": " 185k/185k [00:00&lt;00:00, 1.50MB/s]"
          }
        },
        "532e50f1c079435a83454cb0d1a47470": {
          "model_module": "@jupyter-widgets/controls",
          "model_module_version": "1.5.0",
          "model_name": "DescriptionStyleModel",
          "state": {
            "_model_module": "@jupyter-widgets/controls",
            "_model_module_version": "1.5.0",
            "_model_name": "DescriptionStyleModel",
            "_view_count": null,
            "_view_module": "@jupyter-widgets/base",
            "_view_module_version": "1.2.0",
            "_view_name": "StyleView",
            "description_width": ""
          }
        },
        "551b9cd9705549678165c60ed62e4122": {
          "model_module": "@jupyter-widgets/controls",
          "model_module_version": "1.5.0",
          "model_name": "CheckboxModel",
          "state": {
            "_dom_classes": [],
            "_model_module": "@jupyter-widgets/controls",
            "_model_module_version": "1.5.0",
            "_model_name": "CheckboxModel",
            "_view_count": null,
            "_view_module": "@jupyter-widgets/controls",
            "_view_module_version": "1.5.0",
            "_view_name": "CheckboxView",
            "description": "Add token as git credential?",
            "description_tooltip": null,
            "disabled": false,
            "indent": true,
            "layout": "IPY_MODEL_ccc383532d484873865fd00d3efa8c13",
            "style": "IPY_MODEL_adeeaccd453447689adfa769bb82172f",
            "value": true
          }
        },
        "66c4d92a38ab47f5891ada470e636326": {
          "model_module": "@jupyter-widgets/base",
          "model_module_version": "1.2.0",
          "model_name": "LayoutModel",
          "state": {
            "_model_module": "@jupyter-widgets/base",
            "_model_module_version": "1.2.0",
            "_model_name": "LayoutModel",
            "_view_count": null,
            "_view_module": "@jupyter-widgets/base",
            "_view_module_version": "1.2.0",
            "_view_name": "LayoutView",
            "align_content": null,
            "align_items": null,
            "align_self": null,
            "border": null,
            "bottom": null,
            "display": null,
            "flex": null,
            "flex_flow": null,
            "grid_area": null,
            "grid_auto_columns": null,
            "grid_auto_flow": null,
            "grid_auto_rows": null,
            "grid_column": null,
            "grid_gap": null,
            "grid_row": null,
            "grid_template_areas": null,
            "grid_template_columns": null,
            "grid_template_rows": null,
            "height": null,
            "justify_content": null,
            "justify_items": null,
            "left": null,
            "margin": null,
            "max_height": null,
            "max_width": null,
            "min_height": null,
            "min_width": null,
            "object_fit": null,
            "object_position": null,
            "order": null,
            "overflow": null,
            "overflow_x": null,
            "overflow_y": null,
            "padding": null,
            "right": null,
            "top": null,
            "visibility": null,
            "width": null
          }
        },
        "6b065c5e15804f7fa08cc18ebf2bb033": {
          "model_module": "@jupyter-widgets/base",
          "model_module_version": "1.2.0",
          "model_name": "LayoutModel",
          "state": {
            "_model_module": "@jupyter-widgets/base",
            "_model_module_version": "1.2.0",
            "_model_name": "LayoutModel",
            "_view_count": null,
            "_view_module": "@jupyter-widgets/base",
            "_view_module_version": "1.2.0",
            "_view_name": "LayoutView",
            "align_content": null,
            "align_items": null,
            "align_self": null,
            "border": null,
            "bottom": null,
            "display": null,
            "flex": null,
            "flex_flow": null,
            "grid_area": null,
            "grid_auto_columns": null,
            "grid_auto_flow": null,
            "grid_auto_rows": null,
            "grid_column": null,
            "grid_gap": null,
            "grid_row": null,
            "grid_template_areas": null,
            "grid_template_columns": null,
            "grid_template_rows": null,
            "height": null,
            "justify_content": null,
            "justify_items": null,
            "left": null,
            "margin": null,
            "max_height": null,
            "max_width": null,
            "min_height": null,
            "min_width": null,
            "object_fit": null,
            "object_position": null,
            "order": null,
            "overflow": null,
            "overflow_x": null,
            "overflow_y": null,
            "padding": null,
            "right": null,
            "top": null,
            "visibility": null,
            "width": null
          }
        },
        "6fee914cb24f4bf8b0965207e966872d": {
          "model_module": "@jupyter-widgets/base",
          "model_module_version": "1.2.0",
          "model_name": "LayoutModel",
          "state": {
            "_model_module": "@jupyter-widgets/base",
            "_model_module_version": "1.2.0",
            "_model_name": "LayoutModel",
            "_view_count": null,
            "_view_module": "@jupyter-widgets/base",
            "_view_module_version": "1.2.0",
            "_view_name": "LayoutView",
            "align_content": null,
            "align_items": null,
            "align_self": null,
            "border": null,
            "bottom": null,
            "display": null,
            "flex": null,
            "flex_flow": null,
            "grid_area": null,
            "grid_auto_columns": null,
            "grid_auto_flow": null,
            "grid_auto_rows": null,
            "grid_column": null,
            "grid_gap": null,
            "grid_row": null,
            "grid_template_areas": null,
            "grid_template_columns": null,
            "grid_template_rows": null,
            "height": null,
            "justify_content": null,
            "justify_items": null,
            "left": null,
            "margin": null,
            "max_height": null,
            "max_width": null,
            "min_height": null,
            "min_width": null,
            "object_fit": null,
            "object_position": null,
            "order": null,
            "overflow": null,
            "overflow_x": null,
            "overflow_y": null,
            "padding": null,
            "right": null,
            "top": null,
            "visibility": null,
            "width": null
          }
        },
        "72cce84b5be14f1d84abbd3254b765d2": {
          "model_module": "@jupyter-widgets/controls",
          "model_module_version": "1.5.0",
          "model_name": "DescriptionStyleModel",
          "state": {
            "_model_module": "@jupyter-widgets/controls",
            "_model_module_version": "1.5.0",
            "_model_name": "DescriptionStyleModel",
            "_view_count": null,
            "_view_module": "@jupyter-widgets/base",
            "_view_module_version": "1.2.0",
            "_view_name": "StyleView",
            "description_width": ""
          }
        },
        "7a786f43c3c445ebb7161abdf694742a": {
          "model_module": "@jupyter-widgets/base",
          "model_module_version": "1.2.0",
          "model_name": "LayoutModel",
          "state": {
            "_model_module": "@jupyter-widgets/base",
            "_model_module_version": "1.2.0",
            "_model_name": "LayoutModel",
            "_view_count": null,
            "_view_module": "@jupyter-widgets/base",
            "_view_module_version": "1.2.0",
            "_view_name": "LayoutView",
            "align_content": null,
            "align_items": null,
            "align_self": null,
            "border": null,
            "bottom": null,
            "display": null,
            "flex": null,
            "flex_flow": null,
            "grid_area": null,
            "grid_auto_columns": null,
            "grid_auto_flow": null,
            "grid_auto_rows": null,
            "grid_column": null,
            "grid_gap": null,
            "grid_row": null,
            "grid_template_areas": null,
            "grid_template_columns": null,
            "grid_template_rows": null,
            "height": null,
            "justify_content": null,
            "justify_items": null,
            "left": null,
            "margin": null,
            "max_height": null,
            "max_width": null,
            "min_height": null,
            "min_width": null,
            "object_fit": null,
            "object_position": null,
            "order": null,
            "overflow": null,
            "overflow_x": null,
            "overflow_y": null,
            "padding": null,
            "right": null,
            "top": null,
            "visibility": null,
            "width": null
          }
        },
        "7df9cd5bf4be4325a6d42eaa1315b8f6": {
          "model_module": "@jupyter-widgets/controls",
          "model_module_version": "1.5.0",
          "model_name": "HTMLModel",
          "state": {
            "_dom_classes": [],
            "_model_module": "@jupyter-widgets/controls",
            "_model_module_version": "1.5.0",
            "_model_name": "HTMLModel",
            "_view_count": null,
            "_view_module": "@jupyter-widgets/controls",
            "_view_module_version": "1.5.0",
            "_view_name": "HTMLView",
            "description": "",
            "description_tooltip": null,
            "layout": "IPY_MODEL_6fee914cb24f4bf8b0965207e966872d",
            "placeholder": "​",
            "style": "IPY_MODEL_94696db84f5a49078553ef9b29c48413",
            "value": "<center> <img\nsrc=https://huggingface.co/front/assets/huggingface_logo-noborder.svg\nalt='Hugging Face'> <br> Copy a token from <a\nhref=\"https://huggingface.co/settings/tokens\" target=\"_blank\">your Hugging Face\ntokens page</a> and paste it below. <br> Immediately click login after copying\nyour token or it might be stored in plain text in this notebook file. </center>"
          }
        },
        "807b794d0b864550b460b1e2b5a12e1f": {
          "model_module": "@jupyter-widgets/base",
          "model_module_version": "1.2.0",
          "model_name": "LayoutModel",
          "state": {
            "_model_module": "@jupyter-widgets/base",
            "_model_module_version": "1.2.0",
            "_model_name": "LayoutModel",
            "_view_count": null,
            "_view_module": "@jupyter-widgets/base",
            "_view_module_version": "1.2.0",
            "_view_name": "LayoutView",
            "align_content": null,
            "align_items": null,
            "align_self": null,
            "border": null,
            "bottom": null,
            "display": null,
            "flex": null,
            "flex_flow": null,
            "grid_area": null,
            "grid_auto_columns": null,
            "grid_auto_flow": null,
            "grid_auto_rows": null,
            "grid_column": null,
            "grid_gap": null,
            "grid_row": null,
            "grid_template_areas": null,
            "grid_template_columns": null,
            "grid_template_rows": null,
            "height": null,
            "justify_content": null,
            "justify_items": null,
            "left": null,
            "margin": null,
            "max_height": null,
            "max_width": null,
            "min_height": null,
            "min_width": null,
            "object_fit": null,
            "object_position": null,
            "order": null,
            "overflow": null,
            "overflow_x": null,
            "overflow_y": null,
            "padding": null,
            "right": null,
            "top": null,
            "visibility": null,
            "width": null
          }
        },
        "855787541982469dadbd9db9c500c550": {
          "model_module": "@jupyter-widgets/base",
          "model_module_version": "1.2.0",
          "model_name": "LayoutModel",
          "state": {
            "_model_module": "@jupyter-widgets/base",
            "_model_module_version": "1.2.0",
            "_model_name": "LayoutModel",
            "_view_count": null,
            "_view_module": "@jupyter-widgets/base",
            "_view_module_version": "1.2.0",
            "_view_name": "LayoutView",
            "align_content": null,
            "align_items": null,
            "align_self": null,
            "border": null,
            "bottom": null,
            "display": null,
            "flex": null,
            "flex_flow": null,
            "grid_area": null,
            "grid_auto_columns": null,
            "grid_auto_flow": null,
            "grid_auto_rows": null,
            "grid_column": null,
            "grid_gap": null,
            "grid_row": null,
            "grid_template_areas": null,
            "grid_template_columns": null,
            "grid_template_rows": null,
            "height": null,
            "justify_content": null,
            "justify_items": null,
            "left": null,
            "margin": null,
            "max_height": null,
            "max_width": null,
            "min_height": null,
            "min_width": null,
            "object_fit": null,
            "object_position": null,
            "order": null,
            "overflow": null,
            "overflow_x": null,
            "overflow_y": null,
            "padding": null,
            "right": null,
            "top": null,
            "visibility": null,
            "width": null
          }
        },
        "94696db84f5a49078553ef9b29c48413": {
          "model_module": "@jupyter-widgets/controls",
          "model_module_version": "1.5.0",
          "model_name": "DescriptionStyleModel",
          "state": {
            "_model_module": "@jupyter-widgets/controls",
            "_model_module_version": "1.5.0",
            "_model_name": "DescriptionStyleModel",
            "_view_count": null,
            "_view_module": "@jupyter-widgets/base",
            "_view_module_version": "1.2.0",
            "_view_name": "StyleView",
            "description_width": ""
          }
        },
        "9544469398b24ae2b71474ac2bbff8cd": {
          "model_module": "@jupyter-widgets/controls",
          "model_module_version": "1.5.0",
          "model_name": "HTMLModel",
          "state": {
            "_dom_classes": [],
            "_model_module": "@jupyter-widgets/controls",
            "_model_module_version": "1.5.0",
            "_model_name": "HTMLModel",
            "_view_count": null,
            "_view_module": "@jupyter-widgets/controls",
            "_view_module_version": "1.5.0",
            "_view_name": "HTMLView",
            "description": "",
            "description_tooltip": null,
            "layout": "IPY_MODEL_855787541982469dadbd9db9c500c550",
            "placeholder": "​",
            "style": "IPY_MODEL_532e50f1c079435a83454cb0d1a47470",
            "value": " 198/33236 [00:27&lt;1:22:57,  6.64 examples/s]"
          }
        },
        "96fbfbc9693540599ff7eddaf54b32a0": {
          "model_module": "@jupyter-widgets/controls",
          "model_module_version": "1.5.0",
          "model_name": "DescriptionStyleModel",
          "state": {
            "_model_module": "@jupyter-widgets/controls",
            "_model_module_version": "1.5.0",
            "_model_name": "DescriptionStyleModel",
            "_view_count": null,
            "_view_module": "@jupyter-widgets/base",
            "_view_module_version": "1.2.0",
            "_view_name": "StyleView",
            "description_width": ""
          }
        },
        "9d503a7ce9254390bd6de44d24d75ca7": {
          "model_module": "@jupyter-widgets/controls",
          "model_module_version": "1.5.0",
          "model_name": "PasswordModel",
          "state": {
            "_dom_classes": [],
            "_model_module": "@jupyter-widgets/controls",
            "_model_module_version": "1.5.0",
            "_model_name": "PasswordModel",
            "_view_count": null,
            "_view_module": "@jupyter-widgets/controls",
            "_view_module_version": "1.5.0",
            "_view_name": "PasswordView",
            "continuous_update": true,
            "description": "Token:",
            "description_tooltip": null,
            "disabled": false,
            "layout": "IPY_MODEL_7a786f43c3c445ebb7161abdf694742a",
            "placeholder": "​",
            "style": "IPY_MODEL_4489c7989c7441ddbbfdea4cce03ffb6",
            "value": ""
          }
        },
        "a13d955a791f474eb6975258a2d704f1": {
          "model_module": "@jupyter-widgets/controls",
          "model_module_version": "1.5.0",
          "model_name": "ProgressStyleModel",
          "state": {
            "_model_module": "@jupyter-widgets/controls",
            "_model_module_version": "1.5.0",
            "_model_name": "ProgressStyleModel",
            "_view_count": null,
            "_view_module": "@jupyter-widgets/base",
            "_view_module_version": "1.2.0",
            "_view_name": "StyleView",
            "bar_color": null,
            "description_width": ""
          }
        },
        "adeeaccd453447689adfa769bb82172f": {
          "model_module": "@jupyter-widgets/controls",
          "model_module_version": "1.5.0",
          "model_name": "DescriptionStyleModel",
          "state": {
            "_model_module": "@jupyter-widgets/controls",
            "_model_module_version": "1.5.0",
            "_model_name": "DescriptionStyleModel",
            "_view_count": null,
            "_view_module": "@jupyter-widgets/base",
            "_view_module_version": "1.2.0",
            "_view_name": "StyleView",
            "description_width": ""
          }
        },
        "ae5f05983a1242fe8f7abc5165e692e5": {
          "model_module": "@jupyter-widgets/controls",
          "model_module_version": "1.5.0",
          "model_name": "HBoxModel",
          "state": {
            "_dom_classes": [],
            "_model_module": "@jupyter-widgets/controls",
            "_model_module_version": "1.5.0",
            "_model_name": "HBoxModel",
            "_view_count": null,
            "_view_module": "@jupyter-widgets/controls",
            "_view_module_version": "1.5.0",
            "_view_name": "HBoxView",
            "box_style": "",
            "children": [
              "IPY_MODEL_cd5beff039254443b08731d1a597ac3f",
              "IPY_MODEL_0727261897234090b720fccabf003f2e",
              "IPY_MODEL_4c7c0ae822cc4f82bd5d6db5e0acaea9"
            ],
            "layout": "IPY_MODEL_6b065c5e15804f7fa08cc18ebf2bb033"
          }
        },
        "bec048083d5c48e69f6da7265746725e": {
          "model_module": "@jupyter-widgets/controls",
          "model_module_version": "1.5.0",
          "model_name": "HTMLModel",
          "state": {
            "_dom_classes": [],
            "_model_module": "@jupyter-widgets/controls",
            "_model_module_version": "1.5.0",
            "_model_name": "HTMLModel",
            "_view_count": null,
            "_view_module": "@jupyter-widgets/controls",
            "_view_module_version": "1.5.0",
            "_view_name": "HTMLView",
            "description": "",
            "description_tooltip": null,
            "layout": "IPY_MODEL_2fab9b2f21de4f4a98d64641b1dff07c",
            "placeholder": "​",
            "style": "IPY_MODEL_72cce84b5be14f1d84abbd3254b765d2",
            "value": "Map:   1%"
          }
        },
        "c635eb907e15465dbbff39a57a0d248c": {
          "model_module": "@jupyter-widgets/base",
          "model_module_version": "1.2.0",
          "model_name": "LayoutModel",
          "state": {
            "_model_module": "@jupyter-widgets/base",
            "_model_module_version": "1.2.0",
            "_model_name": "LayoutModel",
            "_view_count": null,
            "_view_module": "@jupyter-widgets/base",
            "_view_module_version": "1.2.0",
            "_view_name": "LayoutView",
            "align_content": null,
            "align_items": null,
            "align_self": null,
            "border": null,
            "bottom": null,
            "display": null,
            "flex": null,
            "flex_flow": null,
            "grid_area": null,
            "grid_auto_columns": null,
            "grid_auto_flow": null,
            "grid_auto_rows": null,
            "grid_column": null,
            "grid_gap": null,
            "grid_row": null,
            "grid_template_areas": null,
            "grid_template_columns": null,
            "grid_template_rows": null,
            "height": null,
            "justify_content": null,
            "justify_items": null,
            "left": null,
            "margin": null,
            "max_height": null,
            "max_width": null,
            "min_height": null,
            "min_width": null,
            "object_fit": null,
            "object_position": null,
            "order": null,
            "overflow": null,
            "overflow_x": null,
            "overflow_y": null,
            "padding": null,
            "right": null,
            "top": null,
            "visibility": null,
            "width": null
          }
        },
        "ccc383532d484873865fd00d3efa8c13": {
          "model_module": "@jupyter-widgets/base",
          "model_module_version": "1.2.0",
          "model_name": "LayoutModel",
          "state": {
            "_model_module": "@jupyter-widgets/base",
            "_model_module_version": "1.2.0",
            "_model_name": "LayoutModel",
            "_view_count": null,
            "_view_module": "@jupyter-widgets/base",
            "_view_module_version": "1.2.0",
            "_view_name": "LayoutView",
            "align_content": null,
            "align_items": null,
            "align_self": null,
            "border": null,
            "bottom": null,
            "display": null,
            "flex": null,
            "flex_flow": null,
            "grid_area": null,
            "grid_auto_columns": null,
            "grid_auto_flow": null,
            "grid_auto_rows": null,
            "grid_column": null,
            "grid_gap": null,
            "grid_row": null,
            "grid_template_areas": null,
            "grid_template_columns": null,
            "grid_template_rows": null,
            "height": null,
            "justify_content": null,
            "justify_items": null,
            "left": null,
            "margin": null,
            "max_height": null,
            "max_width": null,
            "min_height": null,
            "min_width": null,
            "object_fit": null,
            "object_position": null,
            "order": null,
            "overflow": null,
            "overflow_x": null,
            "overflow_y": null,
            "padding": null,
            "right": null,
            "top": null,
            "visibility": null,
            "width": null
          }
        },
        "cd5beff039254443b08731d1a597ac3f": {
          "model_module": "@jupyter-widgets/controls",
          "model_module_version": "1.5.0",
          "model_name": "HTMLModel",
          "state": {
            "_dom_classes": [],
            "_model_module": "@jupyter-widgets/controls",
            "_model_module_version": "1.5.0",
            "_model_name": "HTMLModel",
            "_view_count": null,
            "_view_module": "@jupyter-widgets/controls",
            "_view_module_version": "1.5.0",
            "_view_name": "HTMLView",
            "description": "",
            "description_tooltip": null,
            "layout": "IPY_MODEL_c635eb907e15465dbbff39a57a0d248c",
            "placeholder": "​",
            "style": "IPY_MODEL_27fcddc0a8e64d299ee6ad9d05ebc1b1",
            "value": "Downloading (…)rocessor_config.json: 100%"
          }
        },
        "d11a897e8d7c42a7b24d18ef008d1341": {
          "model_module": "@jupyter-widgets/base",
          "model_module_version": "1.2.0",
          "model_name": "LayoutModel",
          "state": {
            "_model_module": "@jupyter-widgets/base",
            "_model_module_version": "1.2.0",
            "_model_name": "LayoutModel",
            "_view_count": null,
            "_view_module": "@jupyter-widgets/base",
            "_view_module_version": "1.2.0",
            "_view_name": "LayoutView",
            "align_content": null,
            "align_items": null,
            "align_self": null,
            "border": null,
            "bottom": null,
            "display": null,
            "flex": null,
            "flex_flow": null,
            "grid_area": null,
            "grid_auto_columns": null,
            "grid_auto_flow": null,
            "grid_auto_rows": null,
            "grid_column": null,
            "grid_gap": null,
            "grid_row": null,
            "grid_template_areas": null,
            "grid_template_columns": null,
            "grid_template_rows": null,
            "height": null,
            "justify_content": null,
            "justify_items": null,
            "left": null,
            "margin": null,
            "max_height": null,
            "max_width": null,
            "min_height": null,
            "min_width": null,
            "object_fit": null,
            "object_position": null,
            "order": null,
            "overflow": null,
            "overflow_x": null,
            "overflow_y": null,
            "padding": null,
            "right": null,
            "top": null,
            "visibility": null,
            "width": null
          }
        },
        "d788aecab6754e5ca288b2b6bf1bb82a": {
          "model_module": "@jupyter-widgets/controls",
          "model_module_version": "1.5.0",
          "model_name": "ProgressStyleModel",
          "state": {
            "_model_module": "@jupyter-widgets/controls",
            "_model_module_version": "1.5.0",
            "_model_name": "ProgressStyleModel",
            "_view_count": null,
            "_view_module": "@jupyter-widgets/base",
            "_view_module_version": "1.2.0",
            "_view_name": "StyleView",
            "bar_color": null,
            "description_width": ""
          }
        },
        "ed375721fd704353b421d0cc4c3a2802": {
          "model_module": "@jupyter-widgets/controls",
          "model_module_version": "1.5.0",
          "model_name": "DescriptionStyleModel",
          "state": {
            "_model_module": "@jupyter-widgets/controls",
            "_model_module_version": "1.5.0",
            "_model_name": "DescriptionStyleModel",
            "_view_count": null,
            "_view_module": "@jupyter-widgets/base",
            "_view_module_version": "1.2.0",
            "_view_name": "StyleView",
            "description_width": ""
          }
        },
        "ef8a64687c304789a3b86db287f283e9": {
          "model_module": "@jupyter-widgets/base",
          "model_module_version": "1.2.0",
          "model_name": "LayoutModel",
          "state": {
            "_model_module": "@jupyter-widgets/base",
            "_model_module_version": "1.2.0",
            "_model_name": "LayoutModel",
            "_view_count": null,
            "_view_module": "@jupyter-widgets/base",
            "_view_module_version": "1.2.0",
            "_view_name": "LayoutView",
            "align_content": null,
            "align_items": null,
            "align_self": null,
            "border": null,
            "bottom": null,
            "display": null,
            "flex": null,
            "flex_flow": null,
            "grid_area": null,
            "grid_auto_columns": null,
            "grid_auto_flow": null,
            "grid_auto_rows": null,
            "grid_column": null,
            "grid_gap": null,
            "grid_row": null,
            "grid_template_areas": null,
            "grid_template_columns": null,
            "grid_template_rows": null,
            "height": null,
            "justify_content": null,
            "justify_items": null,
            "left": null,
            "margin": null,
            "max_height": null,
            "max_width": null,
            "min_height": null,
            "min_width": null,
            "object_fit": null,
            "object_position": null,
            "order": null,
            "overflow": null,
            "overflow_x": null,
            "overflow_y": null,
            "padding": null,
            "right": null,
            "top": null,
            "visibility": null,
            "width": null
          }
        }
      }
    }
  },
  "nbformat": 4,
  "nbformat_minor": 5
}
